{
 "cells": [
  {
   "cell_type": "markdown",
   "id": "02f1174e",
   "metadata": {
    "papermill": {
     "duration": 0.018793,
     "end_time": "2024-07-17T12:22:15.263787",
     "exception": false,
     "start_time": "2024-07-17T12:22:15.244994",
     "status": "completed"
    },
    "tags": []
   },
   "source": [
    "<h1 style=\"text-align: center; color: #0066CC;\">About dataset</h1>"
   ]
  },
  {
   "cell_type": "markdown",
   "id": "485c248c",
   "metadata": {
    "papermill": {
     "duration": 0.019047,
     "end_time": "2024-07-17T12:22:15.301381",
     "exception": false,
     "start_time": "2024-07-17T12:22:15.282334",
     "status": "completed"
    },
    "tags": []
   },
   "source": [
    "The author of the dataset combined the Titanic test file and the gender_submission file in Excel to create a single CSV file. This combination is excellent for creating charts that help visualize the data. Additionally, it allows for easy verification of who survived and who perished. The results are at least 70% accurate, but it is up to the user to make it 100%. \n",
    "[Dataset link](https://www.kaggle.com/datasets/brendan45774/test-file)\n",
    "\n"
   ]
  },
  {
   "cell_type": "markdown",
   "id": "fc2bf8d4",
   "metadata": {
    "papermill": {
     "duration": 0.018078,
     "end_time": "2024-07-17T12:22:15.338844",
     "exception": false,
     "start_time": "2024-07-17T12:22:15.320766",
     "status": "completed"
    },
    "tags": []
   },
   "source": [
    "<h2 style=\"text-align: center; color: #0066CC;\">Columns in dataset</h2>\n",
    "\n",
    "| Column name | Description                                                                 |\n",
    "|-------------|-----------------------------------------------------------------------------|\n",
    "| PassengerId | Unique identifier for each passenger in the dataset.                        |\n",
    "| Survived    | Survival status of the passenger (0 = Did not survive, 1 = Survived).       |\n",
    "| Pclass      | Passenger class (1 = First, 2 = Second, 3 = Third).                         |\n",
    "| Name        | Name of the passenger.                                                      |\n",
    "| Sex         | Gender of the passenger.                                                    |\n",
    "| Age         | Age of the passenger.                                                       |\n",
    "| SibSp       | Number of siblings or spouses aboard the Titanic.                           |\n",
    "| Parch       | Number of parents or children aboard the Titanic.                           |\n",
    "| Ticket      | Ticket number.                                                              |\n",
    "| Fare        | Ticket fare paid by the passenger.                                          |\n",
    "| Cabin       | Cabin number.                                                               |\n",
    "| Embarked    | Port of embarkation (C = Cherbourg, Q = Queenstown, S = Southampton).       |\n"
   ]
  },
  {
   "cell_type": "markdown",
   "id": "9ad9f094",
   "metadata": {
    "papermill": {
     "duration": 0.018051,
     "end_time": "2024-07-17T12:22:15.375358",
     "exception": false,
     "start_time": "2024-07-17T12:22:15.357307",
     "status": "completed"
    },
    "tags": []
   },
   "source": [
    "<h2 style=\"text-align: center; color: #0066CC;\">Aims and objective of project</h2>\n"
   ]
  },
  {
   "cell_type": "markdown",
   "id": "eca3a6f5",
   "metadata": {
    "papermill": {
     "duration": 0.018165,
     "end_time": "2024-07-17T12:22:15.411923",
     "exception": false,
     "start_time": "2024-07-17T12:22:15.393758",
     "status": "completed"
    },
    "tags": []
   },
   "source": [
    "#### Introduction\n",
    "\n",
    "The aim of this project is to demonstrate the process of performing exploratory data analysis (EDA), feature engineering, and building and evaluating various machine learning models used for classification. We start with EDA to better understand the data and create visual representations of the features. Next, we implement different classification models and evaluate their effectiveness.\n",
    "\n",
    "#### Project Steps\n",
    "\n",
    "1. **Importing Libraries and Initial Data Exploration**\n",
    "    - Load the necessary libraries and datasets.\n",
    "    - Conduct an initial exploration of the data to understand its structure and basic statistics.\n",
    "    \n",
    "\n",
    "2. **Exploratory Data Analysis (EDA)**\n",
    "    - Create histograms, scatter plots, and box plots to visualize the distributions and relationships between features.\n",
    "    - Analyze feature distributions and correlations to inform feature engineering and model selection.\n",
    "    \n",
    "\n",
    "3. **Feature Engineering**\n",
    "    - Apply transformations and create new features based on the initial EDA.\n",
    "    - Consider which features are most and least important for the model, based on domain knowledge and initial analysis.\n",
    "    \n",
    "\n",
    "4. **Classification Models**:\n",
    "    - **Logistic Regression**: A linear model used to predict a binary outcome.\n",
    "    - **K-Nearest Neighbors (KNN)**: A model that classifies data based on the labels of the closest data points.\n",
    "    - **Decision Tree**: A decision model that splits data based on features, creating a tree structure.\n",
    "    - **Support Vector Classifier (SVC)**: A model that finds a hyperplane maximizing the margin between classes.\n",
    "    \n",
    "\n",
    "5. **Model Evaluation**:\n",
    "    - Conduct A/B tests to compare different models on the same metrics such as accuracy, precision, recall, and F1-score to assess model performance.\n",
    "    - Perform k-Fold Cross-Validation (CV) to ensure the robustness of the models.\n",
    "    - Select the best model based on overall performance and apply Grid Search for hyperparameter tuning.\n",
    "\n",
    "\n",
    "#### Summary\n",
    "\n",
    "At the end of the notebook, we summarize the results of the various classification models to determine which one is best suited for the given problem. By using different evaluation metrics, we aim to choose a model that not only achieves high accuracy but also performs well in terms of precision, recall, and F1-score.\n",
    "\n",
    "Throughout the process, we emphasize transparency and reproducibility, ensuring that each step is clear and can be easily replicated by other users."
   ]
  },
  {
   "cell_type": "markdown",
   "id": "26eb693c",
   "metadata": {
    "papermill": {
     "duration": 0.017995,
     "end_time": "2024-07-17T12:22:15.448183",
     "exception": false,
     "start_time": "2024-07-17T12:22:15.430188",
     "status": "completed"
    },
    "tags": []
   },
   "source": [
    "<h1 style=\"text-align: center; color: #0066CC;\">Importing Libraries and Initial Data Exploration</h1>\n"
   ]
  },
  {
   "cell_type": "markdown",
   "id": "9b766854",
   "metadata": {
    "papermill": {
     "duration": 0.018382,
     "end_time": "2024-07-17T12:22:15.484780",
     "exception": false,
     "start_time": "2024-07-17T12:22:15.466398",
     "status": "completed"
    },
    "tags": []
   },
   "source": [
    "## Import libraries"
   ]
  },
  {
   "cell_type": "code",
   "execution_count": 1,
   "id": "635351b6",
   "metadata": {
    "_cell_guid": "b1076dfc-b9ad-4769-8c92-a6c4dae69d19",
    "_uuid": "8f2839f25d086af736a60e9eeb907d3b93b6e0e5",
    "execution": {
     "iopub.execute_input": "2024-07-17T12:22:15.523189Z",
     "iopub.status.busy": "2024-07-17T12:22:15.522771Z",
     "iopub.status.idle": "2024-07-17T12:22:17.698974Z",
     "shell.execute_reply": "2024-07-17T12:22:17.697660Z"
    },
    "papermill": {
     "duration": 2.198559,
     "end_time": "2024-07-17T12:22:17.701702",
     "exception": false,
     "start_time": "2024-07-17T12:22:15.503143",
     "status": "completed"
    },
    "tags": []
   },
   "outputs": [
    {
     "name": "stdout",
     "output_type": "stream",
     "text": [
      "/kaggle/input/test-file/tested.csv\n"
     ]
    }
   ],
   "source": [
    "import numpy as np # linear algebra\n",
    "import pandas as pd # data processing, CSV file I/O (e.g. pd.read_csv)\n",
    "import matplotlib.pyplot as plt\n",
    "import seaborn as sns\n",
    "import os\n",
    "for dirname, _, filenames in os.walk('/kaggle/input'):\n",
    "    for filename in filenames:\n",
    "        print(os.path.join(dirname, filename))"
   ]
  },
  {
   "cell_type": "markdown",
   "id": "8cf52814",
   "metadata": {
    "papermill": {
     "duration": 0.019397,
     "end_time": "2024-07-17T12:22:17.742087",
     "exception": false,
     "start_time": "2024-07-17T12:22:17.722690",
     "status": "completed"
    },
    "tags": []
   },
   "source": [
    "## Exploring data"
   ]
  },
  {
   "cell_type": "markdown",
   "id": "6b136a4e",
   "metadata": {
    "papermill": {
     "duration": 0.018109,
     "end_time": "2024-07-17T12:22:17.778568",
     "exception": false,
     "start_time": "2024-07-17T12:22:17.760459",
     "status": "completed"
    },
    "tags": []
   },
   "source": [
    "### Load data"
   ]
  },
  {
   "cell_type": "code",
   "execution_count": 2,
   "id": "7ce9070f",
   "metadata": {
    "execution": {
     "iopub.execute_input": "2024-07-17T12:22:17.877541Z",
     "iopub.status.busy": "2024-07-17T12:22:17.877012Z",
     "iopub.status.idle": "2024-07-17T12:22:17.898107Z",
     "shell.execute_reply": "2024-07-17T12:22:17.896652Z"
    },
    "papermill": {
     "duration": 0.10373,
     "end_time": "2024-07-17T12:22:17.900616",
     "exception": false,
     "start_time": "2024-07-17T12:22:17.796886",
     "status": "completed"
    },
    "tags": []
   },
   "outputs": [],
   "source": [
    "dataset = pd.read_csv('/kaggle/input/test-file/tested.csv')"
   ]
  },
  {
   "cell_type": "markdown",
   "id": "e39fa0e2",
   "metadata": {
    "papermill": {
     "duration": 0.019735,
     "end_time": "2024-07-17T12:22:17.938863",
     "exception": false,
     "start_time": "2024-07-17T12:22:17.919128",
     "status": "completed"
    },
    "tags": []
   },
   "source": [
    "### Head of data"
   ]
  },
  {
   "cell_type": "code",
   "execution_count": 3,
   "id": "4b8d5635",
   "metadata": {
    "execution": {
     "iopub.execute_input": "2024-07-17T12:22:17.978500Z",
     "iopub.status.busy": "2024-07-17T12:22:17.978129Z",
     "iopub.status.idle": "2024-07-17T12:22:18.006989Z",
     "shell.execute_reply": "2024-07-17T12:22:18.005675Z"
    },
    "papermill": {
     "duration": 0.052382,
     "end_time": "2024-07-17T12:22:18.009499",
     "exception": false,
     "start_time": "2024-07-17T12:22:17.957117",
     "status": "completed"
    },
    "tags": []
   },
   "outputs": [
    {
     "data": {
      "text/html": [
       "<div>\n",
       "<style scoped>\n",
       "    .dataframe tbody tr th:only-of-type {\n",
       "        vertical-align: middle;\n",
       "    }\n",
       "\n",
       "    .dataframe tbody tr th {\n",
       "        vertical-align: top;\n",
       "    }\n",
       "\n",
       "    .dataframe thead th {\n",
       "        text-align: right;\n",
       "    }\n",
       "</style>\n",
       "<table border=\"1\" class=\"dataframe\">\n",
       "  <thead>\n",
       "    <tr style=\"text-align: right;\">\n",
       "      <th></th>\n",
       "      <th>PassengerId</th>\n",
       "      <th>Survived</th>\n",
       "      <th>Pclass</th>\n",
       "      <th>Name</th>\n",
       "      <th>Sex</th>\n",
       "      <th>Age</th>\n",
       "      <th>SibSp</th>\n",
       "      <th>Parch</th>\n",
       "      <th>Ticket</th>\n",
       "      <th>Fare</th>\n",
       "      <th>Cabin</th>\n",
       "      <th>Embarked</th>\n",
       "    </tr>\n",
       "  </thead>\n",
       "  <tbody>\n",
       "    <tr>\n",
       "      <th>0</th>\n",
       "      <td>892</td>\n",
       "      <td>0</td>\n",
       "      <td>3</td>\n",
       "      <td>Kelly, Mr. James</td>\n",
       "      <td>male</td>\n",
       "      <td>34.5</td>\n",
       "      <td>0</td>\n",
       "      <td>0</td>\n",
       "      <td>330911</td>\n",
       "      <td>7.8292</td>\n",
       "      <td>NaN</td>\n",
       "      <td>Q</td>\n",
       "    </tr>\n",
       "    <tr>\n",
       "      <th>1</th>\n",
       "      <td>893</td>\n",
       "      <td>1</td>\n",
       "      <td>3</td>\n",
       "      <td>Wilkes, Mrs. James (Ellen Needs)</td>\n",
       "      <td>female</td>\n",
       "      <td>47.0</td>\n",
       "      <td>1</td>\n",
       "      <td>0</td>\n",
       "      <td>363272</td>\n",
       "      <td>7.0000</td>\n",
       "      <td>NaN</td>\n",
       "      <td>S</td>\n",
       "    </tr>\n",
       "    <tr>\n",
       "      <th>2</th>\n",
       "      <td>894</td>\n",
       "      <td>0</td>\n",
       "      <td>2</td>\n",
       "      <td>Myles, Mr. Thomas Francis</td>\n",
       "      <td>male</td>\n",
       "      <td>62.0</td>\n",
       "      <td>0</td>\n",
       "      <td>0</td>\n",
       "      <td>240276</td>\n",
       "      <td>9.6875</td>\n",
       "      <td>NaN</td>\n",
       "      <td>Q</td>\n",
       "    </tr>\n",
       "    <tr>\n",
       "      <th>3</th>\n",
       "      <td>895</td>\n",
       "      <td>0</td>\n",
       "      <td>3</td>\n",
       "      <td>Wirz, Mr. Albert</td>\n",
       "      <td>male</td>\n",
       "      <td>27.0</td>\n",
       "      <td>0</td>\n",
       "      <td>0</td>\n",
       "      <td>315154</td>\n",
       "      <td>8.6625</td>\n",
       "      <td>NaN</td>\n",
       "      <td>S</td>\n",
       "    </tr>\n",
       "    <tr>\n",
       "      <th>4</th>\n",
       "      <td>896</td>\n",
       "      <td>1</td>\n",
       "      <td>3</td>\n",
       "      <td>Hirvonen, Mrs. Alexander (Helga E Lindqvist)</td>\n",
       "      <td>female</td>\n",
       "      <td>22.0</td>\n",
       "      <td>1</td>\n",
       "      <td>1</td>\n",
       "      <td>3101298</td>\n",
       "      <td>12.2875</td>\n",
       "      <td>NaN</td>\n",
       "      <td>S</td>\n",
       "    </tr>\n",
       "  </tbody>\n",
       "</table>\n",
       "</div>"
      ],
      "text/plain": [
       "   PassengerId  Survived  Pclass  \\\n",
       "0          892         0       3   \n",
       "1          893         1       3   \n",
       "2          894         0       2   \n",
       "3          895         0       3   \n",
       "4          896         1       3   \n",
       "\n",
       "                                           Name     Sex   Age  SibSp  Parch  \\\n",
       "0                              Kelly, Mr. James    male  34.5      0      0   \n",
       "1              Wilkes, Mrs. James (Ellen Needs)  female  47.0      1      0   \n",
       "2                     Myles, Mr. Thomas Francis    male  62.0      0      0   \n",
       "3                              Wirz, Mr. Albert    male  27.0      0      0   \n",
       "4  Hirvonen, Mrs. Alexander (Helga E Lindqvist)  female  22.0      1      1   \n",
       "\n",
       "    Ticket     Fare Cabin Embarked  \n",
       "0   330911   7.8292   NaN        Q  \n",
       "1   363272   7.0000   NaN        S  \n",
       "2   240276   9.6875   NaN        Q  \n",
       "3   315154   8.6625   NaN        S  \n",
       "4  3101298  12.2875   NaN        S  "
      ]
     },
     "execution_count": 3,
     "metadata": {},
     "output_type": "execute_result"
    }
   ],
   "source": [
    "dataset.head()"
   ]
  },
  {
   "cell_type": "markdown",
   "id": "30fc662c",
   "metadata": {
    "papermill": {
     "duration": 0.018827,
     "end_time": "2024-07-17T12:22:18.047352",
     "exception": false,
     "start_time": "2024-07-17T12:22:18.028525",
     "status": "completed"
    },
    "tags": []
   },
   "source": [
    "### Shape of data"
   ]
  },
  {
   "cell_type": "code",
   "execution_count": 4,
   "id": "7d9c7ae0",
   "metadata": {
    "execution": {
     "iopub.execute_input": "2024-07-17T12:22:18.087473Z",
     "iopub.status.busy": "2024-07-17T12:22:18.087053Z",
     "iopub.status.idle": "2024-07-17T12:22:18.092740Z",
     "shell.execute_reply": "2024-07-17T12:22:18.091614Z"
    },
    "papermill": {
     "duration": 0.029412,
     "end_time": "2024-07-17T12:22:18.095979",
     "exception": false,
     "start_time": "2024-07-17T12:22:18.066567",
     "status": "completed"
    },
    "tags": []
   },
   "outputs": [
    {
     "name": "stdout",
     "output_type": "stream",
     "text": [
      "Titanic data: \n",
      "There is 418 rows and 12 columns.\n"
     ]
    }
   ],
   "source": [
    "print(f\"Titanic data: \\nThere is {dataset.shape[0]} rows and {dataset.shape[1]} columns.\")"
   ]
  },
  {
   "cell_type": "markdown",
   "id": "f0e05949",
   "metadata": {
    "papermill": {
     "duration": 0.018757,
     "end_time": "2024-07-17T12:22:18.133865",
     "exception": false,
     "start_time": "2024-07-17T12:22:18.115108",
     "status": "completed"
    },
    "tags": []
   },
   "source": [
    "### Epmty fields"
   ]
  },
  {
   "cell_type": "code",
   "execution_count": 5,
   "id": "14f236f0",
   "metadata": {
    "execution": {
     "iopub.execute_input": "2024-07-17T12:22:18.173441Z",
     "iopub.status.busy": "2024-07-17T12:22:18.173043Z",
     "iopub.status.idle": "2024-07-17T12:22:18.188602Z",
     "shell.execute_reply": "2024-07-17T12:22:18.187354Z"
    },
    "papermill": {
     "duration": 0.038153,
     "end_time": "2024-07-17T12:22:18.190921",
     "exception": false,
     "start_time": "2024-07-17T12:22:18.152768",
     "status": "completed"
    },
    "tags": []
   },
   "outputs": [
    {
     "name": "stdout",
     "output_type": "stream",
     "text": [
      "There are empty fields in the dataset. Null Count in Data: 414\n"
     ]
    }
   ],
   "source": [
    "#Checking for empty fields.\n",
    "if dataset.isnull().any().any():\n",
    "    df_null = dataset.isnull().sum().sum()\n",
    "    print(f\"There are empty fields in the dataset. Null Count in Data: {df_null}\")\n",
    "    rows_with_nulls = dataset[dataset.isnull().any(axis=1)]\n",
    "else:\n",
    "    print(\"There are no empty fields in the dataset.\")"
   ]
  },
  {
   "cell_type": "code",
   "execution_count": 6,
   "id": "68b1f2e3",
   "metadata": {
    "execution": {
     "iopub.execute_input": "2024-07-17T12:22:18.230826Z",
     "iopub.status.busy": "2024-07-17T12:22:18.230426Z",
     "iopub.status.idle": "2024-07-17T12:22:18.238997Z",
     "shell.execute_reply": "2024-07-17T12:22:18.237878Z"
    },
    "papermill": {
     "duration": 0.031071,
     "end_time": "2024-07-17T12:22:18.241191",
     "exception": false,
     "start_time": "2024-07-17T12:22:18.210120",
     "status": "completed"
    },
    "tags": []
   },
   "outputs": [
    {
     "data": {
      "text/plain": [
       "PassengerId      0\n",
       "Survived         0\n",
       "Pclass           0\n",
       "Name             0\n",
       "Sex              0\n",
       "Age             86\n",
       "SibSp            0\n",
       "Parch            0\n",
       "Ticket           0\n",
       "Fare             1\n",
       "Cabin          327\n",
       "Embarked         0\n",
       "dtype: int64"
      ]
     },
     "execution_count": 6,
     "metadata": {},
     "output_type": "execute_result"
    }
   ],
   "source": [
    "dataset.isnull().sum()"
   ]
  },
  {
   "cell_type": "code",
   "execution_count": 7,
   "id": "361bdf13",
   "metadata": {
    "execution": {
     "iopub.execute_input": "2024-07-17T12:22:18.281459Z",
     "iopub.status.busy": "2024-07-17T12:22:18.280520Z",
     "iopub.status.idle": "2024-07-17T12:22:18.541383Z",
     "shell.execute_reply": "2024-07-17T12:22:18.540133Z"
    },
    "papermill": {
     "duration": 0.283812,
     "end_time": "2024-07-17T12:22:18.544042",
     "exception": false,
     "start_time": "2024-07-17T12:22:18.260230",
     "status": "completed"
    },
    "tags": []
   },
   "outputs": [
    {
     "data": {
      "text/plain": [
       "<Axes: >"
      ]
     },
     "execution_count": 7,
     "metadata": {},
     "output_type": "execute_result"
    },
    {
     "data": {
      "image/png": "[encoded data removed]",
      "text/plain": [
       "<Figure size 640x480 with 1 Axes>"
      ]
     },
     "metadata": {},
     "output_type": "display_data"
    }
   ],
   "source": [
    "sns.heatmap(dataset.isnull(),yticklabels=False,cbar=False,cmap='viridis')"
   ]
  },
  {
   "cell_type": "markdown",
   "id": "5252dd77",
   "metadata": {
    "papermill": {
     "duration": 0.019525,
     "end_time": "2024-07-17T12:22:18.583503",
     "exception": false,
     "start_time": "2024-07-17T12:22:18.563978",
     "status": "completed"
    },
    "tags": []
   },
   "source": [
    "### Duplicated fields"
   ]
  },
  {
   "cell_type": "code",
   "execution_count": 8,
   "id": "e487ac0e",
   "metadata": {
    "execution": {
     "iopub.execute_input": "2024-07-17T12:22:18.624974Z",
     "iopub.status.busy": "2024-07-17T12:22:18.624599Z",
     "iopub.status.idle": "2024-07-17T12:22:18.638940Z",
     "shell.execute_reply": "2024-07-17T12:22:18.637543Z"
    },
    "papermill": {
     "duration": 0.037925,
     "end_time": "2024-07-17T12:22:18.641255",
     "exception": false,
     "start_time": "2024-07-17T12:22:18.603330",
     "status": "completed"
    },
    "tags": []
   },
   "outputs": [
    {
     "name": "stdout",
     "output_type": "stream",
     "text": [
      "Duplicated fields: 0\n"
     ]
    }
   ],
   "source": [
    "# Duplicate rows in train_data\n",
    "data_duplicates = dataset.duplicated()\n",
    "sum_data_duplicates = dataset.duplicated().sum()\n",
    "print(f\"Duplicated fields: {sum_data_duplicates}\")"
   ]
  },
  {
   "cell_type": "markdown",
   "id": "2a891356",
   "metadata": {
    "papermill": {
     "duration": 0.019372,
     "end_time": "2024-07-17T12:22:18.680290",
     "exception": false,
     "start_time": "2024-07-17T12:22:18.660918",
     "status": "completed"
    },
    "tags": []
   },
   "source": [
    "### Info of the data"
   ]
  },
  {
   "cell_type": "code",
   "execution_count": 9,
   "id": "235f9ca0",
   "metadata": {
    "execution": {
     "iopub.execute_input": "2024-07-17T12:22:18.723208Z",
     "iopub.status.busy": "2024-07-17T12:22:18.722518Z",
     "iopub.status.idle": "2024-07-17T12:22:18.739669Z",
     "shell.execute_reply": "2024-07-17T12:22:18.738515Z"
    },
    "papermill": {
     "duration": 0.042147,
     "end_time": "2024-07-17T12:22:18.742165",
     "exception": false,
     "start_time": "2024-07-17T12:22:18.700018",
     "status": "completed"
    },
    "tags": []
   },
   "outputs": [
    {
     "name": "stdout",
     "output_type": "stream",
     "text": [
      "<class 'pandas.core.frame.DataFrame'>\n",
      "RangeIndex: 418 entries, 0 to 417\n",
      "Data columns (total 12 columns):\n",
      " #   Column       Non-Null Count  Dtype  \n",
      "---  ------       --------------  -----  \n",
      " 0   PassengerId  418 non-null    int64  \n",
      " 1   Survived     418 non-null    int64  \n",
      " 2   Pclass       418 non-null    int64  \n",
      " 3   Name         418 non-null    object \n",
      " 4   Sex          418 non-null    object \n",
      " 5   Age          332 non-null    float64\n",
      " 6   SibSp        418 non-null    int64  \n",
      " 7   Parch        418 non-null    int64  \n",
      " 8   Ticket       418 non-null    object \n",
      " 9   Fare         417 non-null    float64\n",
      " 10  Cabin        91 non-null     object \n",
      " 11  Embarked     418 non-null    object \n",
      "dtypes: float64(2), int64(5), object(5)\n",
      "memory usage: 39.3+ KB\n"
     ]
    }
   ],
   "source": [
    "dataset.info()"
   ]
  },
  {
   "cell_type": "markdown",
   "id": "52d126a5",
   "metadata": {
    "papermill": {
     "duration": 0.020552,
     "end_time": "2024-07-17T12:22:18.782494",
     "exception": false,
     "start_time": "2024-07-17T12:22:18.761942",
     "status": "completed"
    },
    "tags": []
   },
   "source": [
    "### Unique values in particular columns"
   ]
  },
  {
   "cell_type": "code",
   "execution_count": 10,
   "id": "e83a68da",
   "metadata": {
    "execution": {
     "iopub.execute_input": "2024-07-17T12:22:18.823207Z",
     "iopub.status.busy": "2024-07-17T12:22:18.822808Z",
     "iopub.status.idle": "2024-07-17T12:22:18.833082Z",
     "shell.execute_reply": "2024-07-17T12:22:18.831825Z"
    },
    "papermill": {
     "duration": 0.033134,
     "end_time": "2024-07-17T12:22:18.835267",
     "exception": false,
     "start_time": "2024-07-17T12:22:18.802133",
     "status": "completed"
    },
    "tags": []
   },
   "outputs": [
    {
     "name": "stdout",
     "output_type": "stream",
     "text": [
      "Number of categories in the variable PassengerId: 418\n",
      "Number of categories in the variable Survived: 2\n",
      "Number of categories in the variable Pclass: 3\n",
      "Number of categories in the variable Name: 418\n",
      "Number of categories in the variable Sex: 2\n",
      "Number of categories in the variable Age: 80\n",
      "Number of categories in the variable SibSp: 7\n",
      "Number of categories in the variable Parch: 8\n",
      "Number of categories in the variable Ticket: 363\n",
      "Number of categories in the variable Fare: 170\n",
      "Number of categories in the variable Cabin: 77\n",
      "Number of categories in the variable Embarked: 3\n"
     ]
    }
   ],
   "source": [
    "columns = list(dataset.columns)\n",
    "unique_values = []\n",
    "for column in columns:\n",
    "    unique_value = len(dataset[column].unique())\n",
    "    unique_values.append(unique_value)\n",
    "    print(f\"Number of categories in the variable {column}: {unique_value}\")"
   ]
  },
  {
   "cell_type": "code",
   "execution_count": 11,
   "id": "44dea1ae",
   "metadata": {
    "execution": {
     "iopub.execute_input": "2024-07-17T12:22:18.877144Z",
     "iopub.status.busy": "2024-07-17T12:22:18.876752Z",
     "iopub.status.idle": "2024-07-17T12:22:18.886394Z",
     "shell.execute_reply": "2024-07-17T12:22:18.885344Z"
    },
    "papermill": {
     "duration": 0.03313,
     "end_time": "2024-07-17T12:22:18.888437",
     "exception": false,
     "start_time": "2024-07-17T12:22:18.855307",
     "status": "completed"
    },
    "tags": []
   },
   "outputs": [
    {
     "data": {
      "text/plain": [
       "Survived\n",
       "0    266\n",
       "1    152\n",
       "Name: count, dtype: int64"
      ]
     },
     "execution_count": 11,
     "metadata": {},
     "output_type": "execute_result"
    }
   ],
   "source": [
    "dataset['Survived'].value_counts()"
   ]
  },
  {
   "cell_type": "markdown",
   "id": "099deb5e",
   "metadata": {
    "papermill": {
     "duration": 0.019755,
     "end_time": "2024-07-17T12:22:18.928793",
     "exception": false,
     "start_time": "2024-07-17T12:22:18.909038",
     "status": "completed"
    },
    "tags": []
   },
   "source": [
    "<h3 style=\"text-align: center; color: #0066CC;\">Observations</h3>\n",
    "\n",
    "Our dataset consists of 418 rows and 12 columns. I examined the number of empty fields, and there are 414 empty fields in our dataset. The initial analysis of empty fields shows that missing data is present in the 'Cabin' and 'Age' columns. Specifically, there are 86 missing values in the 'Age' column and 327 missing values in the 'Cabin' column. By calculating the difference, we observe that there is also a missing value represented as NaN in the 'Fare' column. We did not observe any duplicated records in the dataset.\n",
    "\n",
    "The dataset includes 4 numerical feature columns: age (age), fare (ticket fare), sibsp (number of siblings/spouses aboard), and parch (number of parents/children aboard). Additionally, there are 2 categorical feature columns: sex (gender) and embarked (port of embarkation). There is also 1 categorical label column with two categories: Passenger Survival Status (0 = Did not survive, 1 = Survived). The 'Passenger ID' and 'Name' columns do not influence the analysis."
   ]
  },
  {
   "cell_type": "markdown",
   "id": "03b5efcc",
   "metadata": {
    "papermill": {
     "duration": 0.02039,
     "end_time": "2024-07-17T12:22:18.969298",
     "exception": false,
     "start_time": "2024-07-17T12:22:18.948908",
     "status": "completed"
    },
    "tags": []
   },
   "source": [
    "<h1 style=\"text-align: center; color: #0066CC;\">Feature Engineering part 1</h1>"
   ]
  },
  {
   "cell_type": "markdown",
   "id": "ef5c463f",
   "metadata": {
    "papermill": {
     "duration": 0.019799,
     "end_time": "2024-07-17T12:22:19.009447",
     "exception": false,
     "start_time": "2024-07-17T12:22:18.989648",
     "status": "completed"
    },
    "tags": []
   },
   "source": [
    "Feature engineering is a crucial step in data preprocessing, aimed at preparing the data for effective use in machine learning models. In our dataset, several columns do not require any transformations:\n",
    "\n",
    "- **Survived**: Binary categorization (0 = Did not survive, 1 = Survived).\n",
    "- **Pclass**: Column with three already prepared categories.\n",
    "- **Age**: Continuous numerical data.\n",
    "- **Fare**: Continuous numerical data.\n",
    "- **SibSp**: Discrete numerical data.\n",
    "- **Parch**: Discrete numerical data.\n",
    "\n",
    "However, some columns require further processing:\n",
    "\n",
    "- **Sex**: We need to convert this data into binary categorization (e.g., 0 = Male, 1 = Female).\n",
    "- **Embarked**: We need to encode this data into three categories (e.g., C = Cherbourg, Q = Queenstown, S = Southampton).\n",
    "- **Cabin**: Requires more advanced processing as it may contain significant textual information.\n",
    "\n",
    "Processing these columns will allow for better understanding and utilization of the data in predictive models, ensuring greater effectiveness and accuracy.\n"
   ]
  },
  {
   "cell_type": "markdown",
   "id": "595a36f0",
   "metadata": {
    "papermill": {
     "duration": 0.019826,
     "end_time": "2024-07-17T12:22:19.049211",
     "exception": false,
     "start_time": "2024-07-17T12:22:19.029385",
     "status": "completed"
    },
    "tags": []
   },
   "source": [
    "### Gender and Embarked"
   ]
  },
  {
   "cell_type": "code",
   "execution_count": 12,
   "id": "1d8c72ba",
   "metadata": {
    "execution": {
     "iopub.execute_input": "2024-07-17T12:22:19.091333Z",
     "iopub.status.busy": "2024-07-17T12:22:19.090926Z",
     "iopub.status.idle": "2024-07-17T12:22:19.340252Z",
     "shell.execute_reply": "2024-07-17T12:22:19.339254Z"
    },
    "papermill": {
     "duration": 0.27307,
     "end_time": "2024-07-17T12:22:19.342716",
     "exception": false,
     "start_time": "2024-07-17T12:22:19.069646",
     "status": "completed"
    },
    "tags": []
   },
   "outputs": [
    {
     "data": {
      "text/html": [
       "<div>\n",
       "<style scoped>\n",
       "    .dataframe tbody tr th:only-of-type {\n",
       "        vertical-align: middle;\n",
       "    }\n",
       "\n",
       "    .dataframe tbody tr th {\n",
       "        vertical-align: top;\n",
       "    }\n",
       "\n",
       "    .dataframe thead th {\n",
       "        text-align: right;\n",
       "    }\n",
       "</style>\n",
       "<table border=\"1\" class=\"dataframe\">\n",
       "  <thead>\n",
       "    <tr style=\"text-align: right;\">\n",
       "      <th></th>\n",
       "      <th>Sex</th>\n",
       "      <th>Embarked</th>\n",
       "    </tr>\n",
       "  </thead>\n",
       "  <tbody>\n",
       "    <tr>\n",
       "      <th>0</th>\n",
       "      <td>1</td>\n",
       "      <td>1</td>\n",
       "    </tr>\n",
       "    <tr>\n",
       "      <th>1</th>\n",
       "      <td>0</td>\n",
       "      <td>2</td>\n",
       "    </tr>\n",
       "    <tr>\n",
       "      <th>2</th>\n",
       "      <td>1</td>\n",
       "      <td>1</td>\n",
       "    </tr>\n",
       "    <tr>\n",
       "      <th>3</th>\n",
       "      <td>1</td>\n",
       "      <td>2</td>\n",
       "    </tr>\n",
       "    <tr>\n",
       "      <th>4</th>\n",
       "      <td>0</td>\n",
       "      <td>2</td>\n",
       "    </tr>\n",
       "  </tbody>\n",
       "</table>\n",
       "</div>"
      ],
      "text/plain": [
       "   Sex  Embarked\n",
       "0    1         1\n",
       "1    0         2\n",
       "2    1         1\n",
       "3    1         2\n",
       "4    0         2"
      ]
     },
     "execution_count": 12,
     "metadata": {},
     "output_type": "execute_result"
    }
   ],
   "source": [
    "from sklearn import preprocessing \n",
    "label_encoder = preprocessing.LabelEncoder() \n",
    "\n",
    "dataset['Sex']= label_encoder.fit_transform(dataset['Sex'])\n",
    "dataset['Embarked']= label_encoder.fit_transform(dataset['Embarked'])\n",
    "dataset[['Sex', 'Embarked']].head()"
   ]
  },
  {
   "cell_type": "markdown",
   "id": "a73800ae",
   "metadata": {
    "papermill": {
     "duration": 0.020113,
     "end_time": "2024-07-17T12:22:19.383430",
     "exception": false,
     "start_time": "2024-07-17T12:22:19.363317",
     "status": "completed"
    },
    "tags": []
   },
   "source": [
    "### Cabin"
   ]
  },
  {
   "cell_type": "code",
   "execution_count": 13,
   "id": "bc7ba532",
   "metadata": {
    "execution": {
     "iopub.execute_input": "2024-07-17T12:22:19.426034Z",
     "iopub.status.busy": "2024-07-17T12:22:19.425613Z",
     "iopub.status.idle": "2024-07-17T12:22:19.435759Z",
     "shell.execute_reply": "2024-07-17T12:22:19.434477Z"
    },
    "papermill": {
     "duration": 0.034609,
     "end_time": "2024-07-17T12:22:19.438052",
     "exception": false,
     "start_time": "2024-07-17T12:22:19.403443",
     "status": "completed"
    },
    "tags": []
   },
   "outputs": [
    {
     "data": {
      "text/plain": [
       "array(['n', 'B', 'E', 'A', 'C', 'D', 'F', 'G'], dtype=object)"
      ]
     },
     "execution_count": 13,
     "metadata": {},
     "output_type": "execute_result"
    }
   ],
   "source": [
    "dataset['Cabin_reduced'] = dataset['Cabin'].astype(str).str[0]\n",
    "dataset.Cabin_reduced.unique()"
   ]
  },
  {
   "cell_type": "markdown",
   "id": "c81a2f31",
   "metadata": {
    "papermill": {
     "duration": 0.020092,
     "end_time": "2024-07-17T12:22:19.478537",
     "exception": false,
     "start_time": "2024-07-17T12:22:19.458445",
     "status": "completed"
    },
    "tags": []
   },
   "source": [
    "<h1 style=\"text-align: center; color: #0066CC;\">Exploratory Data Analysis (EDA)</h1>"
   ]
  },
  {
   "cell_type": "markdown",
   "id": "41072007",
   "metadata": {
    "papermill": {
     "duration": 0.02009,
     "end_time": "2024-07-17T12:22:19.519767",
     "exception": false,
     "start_time": "2024-07-17T12:22:19.499677",
     "status": "completed"
    },
    "tags": []
   },
   "source": [
    "## Descriptive statistic of features vs Survived"
   ]
  },
  {
   "cell_type": "markdown",
   "id": "753e3c7c",
   "metadata": {
    "papermill": {
     "duration": 0.020015,
     "end_time": "2024-07-17T12:22:19.560137",
     "exception": false,
     "start_time": "2024-07-17T12:22:19.540122",
     "status": "completed"
    },
    "tags": []
   },
   "source": [
    "### Categorical features vs survived"
   ]
  },
  {
   "cell_type": "markdown",
   "id": "31b19ac4",
   "metadata": {
    "papermill": {
     "duration": 0.019973,
     "end_time": "2024-07-17T12:22:19.600397",
     "exception": false,
     "start_time": "2024-07-17T12:22:19.580424",
     "status": "completed"
    },
    "tags": []
   },
   "source": [
    "#### Pclass vs survived"
   ]
  },
  {
   "cell_type": "code",
   "execution_count": 14,
   "id": "376b5d37",
   "metadata": {
    "execution": {
     "iopub.execute_input": "2024-07-17T12:22:19.642945Z",
     "iopub.status.busy": "2024-07-17T12:22:19.642499Z",
     "iopub.status.idle": "2024-07-17T12:22:19.658899Z",
     "shell.execute_reply": "2024-07-17T12:22:19.657673Z"
    },
    "papermill": {
     "duration": 0.04068,
     "end_time": "2024-07-17T12:22:19.661364",
     "exception": false,
     "start_time": "2024-07-17T12:22:19.620684",
     "status": "completed"
    },
    "tags": []
   },
   "outputs": [
    {
     "name": "stdout",
     "output_type": "stream",
     "text": [
      "Percentage of first class survived: 46.73%.\n",
      "Percentage of second class survived: 32.26%.\n",
      "Percentage of third class survived: 33.03%.\n"
     ]
    }
   ],
   "source": [
    "percentage_first_class_survived = (dataset[(dataset['Pclass'] == 1) & (dataset['Survived'] == 1)].shape[0]) / len(dataset[dataset['Pclass'] == 1]) * 100\n",
    "percentage_second_class_survived = (dataset[(dataset['Pclass'] == 2) & (dataset['Survived'] == 1)].shape[0]) / len(dataset[dataset['Pclass'] == 2]) * 100\n",
    "percentage_third_class_survived = (dataset[(dataset['Pclass'] == 3) & (dataset['Survived'] == 1)].shape[0]) / len(dataset[dataset['Pclass'] == 3]) * 100\n",
    "\n",
    "print(f\"Percentage of first class survived: {percentage_first_class_survived:.2f}%.\")\n",
    "print(f\"Percentage of second class survived: {percentage_second_class_survived:.2f}%.\")\n",
    "print(f\"Percentage of third class survived: {percentage_third_class_survived:.2f}%.\")"
   ]
  },
  {
   "cell_type": "markdown",
   "id": "815b1922",
   "metadata": {
    "papermill": {
     "duration": 0.020072,
     "end_time": "2024-07-17T12:22:19.701778",
     "exception": false,
     "start_time": "2024-07-17T12:22:19.681706",
     "status": "completed"
    },
    "tags": []
   },
   "source": [
    "#### Gender vs survived"
   ]
  },
  {
   "cell_type": "code",
   "execution_count": 15,
   "id": "1ecceffb",
   "metadata": {
    "execution": {
     "iopub.execute_input": "2024-07-17T12:22:19.746391Z",
     "iopub.status.busy": "2024-07-17T12:22:19.745979Z",
     "iopub.status.idle": "2024-07-17T12:22:19.757386Z",
     "shell.execute_reply": "2024-07-17T12:22:19.756027Z"
    },
    "papermill": {
     "duration": 0.037736,
     "end_time": "2024-07-17T12:22:19.759869",
     "exception": false,
     "start_time": "2024-07-17T12:22:19.722133",
     "status": "completed"
    },
    "tags": []
   },
   "outputs": [
    {
     "name": "stdout",
     "output_type": "stream",
     "text": [
      "Percentage of female survived: 100.00%.\n",
      "Percentage of male survived: 0.00%.\n"
     ]
    }
   ],
   "source": [
    "female_survived = (dataset[(dataset['Sex'] == 0) & (dataset['Survived'] == 1)].shape[0]) / len(dataset[dataset['Sex'] == 0]) * 100\n",
    "male_survived = (dataset[(dataset['Sex'] == 1) & (dataset['Survived'] == 1)].shape[0]) / len(dataset[dataset['Sex'] == 1]) * 100\n",
    "\n",
    "print(f\"Percentage of female survived: {female_survived:.2f}%.\")\n",
    "print(f\"Percentage of male survived: {male_survived:.2f}%.\")"
   ]
  },
  {
   "cell_type": "markdown",
   "id": "6b0c10c2",
   "metadata": {
    "papermill": {
     "duration": 0.020237,
     "end_time": "2024-07-17T12:22:19.800570",
     "exception": false,
     "start_time": "2024-07-17T12:22:19.780333",
     "status": "completed"
    },
    "tags": []
   },
   "source": [
    "#### Cabin vs survived"
   ]
  },
  {
   "cell_type": "code",
   "execution_count": 16,
   "id": "03aeeaa2",
   "metadata": {
    "execution": {
     "iopub.execute_input": "2024-07-17T12:22:19.843434Z",
     "iopub.status.busy": "2024-07-17T12:22:19.843018Z",
     "iopub.status.idle": "2024-07-17T12:22:19.862367Z",
     "shell.execute_reply": "2024-07-17T12:22:19.861098Z"
    },
    "papermill": {
     "duration": 0.043795,
     "end_time": "2024-07-17T12:22:19.864802",
     "exception": false,
     "start_time": "2024-07-17T12:22:19.821007",
     "status": "completed"
    },
    "tags": []
   },
   "outputs": [
    {
     "name": "stdout",
     "output_type": "stream",
     "text": [
      "Percentage of cabin n survived: 33.03%.\n",
      "Percentage of cabin B survived: 50.00%.\n",
      "Percentage of cabin E survived: 44.44%.\n",
      "Percentage of cabin A survived: 42.86%.\n",
      "Percentage of cabin C survived: 54.29%.\n",
      "Percentage of cabin D survived: 38.46%.\n",
      "Percentage of cabin F survived: 37.50%.\n",
      "Percentage of cabin G survived: 100.00%.\n"
     ]
    }
   ],
   "source": [
    "cabins = dataset.Cabin_reduced.unique()\n",
    "\n",
    "for cabin in cabins: \n",
    "    cabin_survived = (dataset[(dataset['Cabin_reduced'] == cabin) & (dataset['Survived'] == 1)].shape[0]) / len(dataset[dataset['Cabin_reduced'] == cabin]) * 100\n",
    "    print(f\"Percentage of cabin {cabin} survived: {cabin_survived:.2f}%.\")"
   ]
  },
  {
   "cell_type": "markdown",
   "id": "ce21725d",
   "metadata": {
    "papermill": {
     "duration": 0.020067,
     "end_time": "2024-07-17T12:22:19.905353",
     "exception": false,
     "start_time": "2024-07-17T12:22:19.885286",
     "status": "completed"
    },
    "tags": []
   },
   "source": [
    "n = NaN observation"
   ]
  },
  {
   "cell_type": "markdown",
   "id": "95064a30",
   "metadata": {
    "papermill": {
     "duration": 0.020105,
     "end_time": "2024-07-17T12:22:19.945896",
     "exception": false,
     "start_time": "2024-07-17T12:22:19.925791",
     "status": "completed"
    },
    "tags": []
   },
   "source": [
    "#### Embarked vs survived"
   ]
  },
  {
   "cell_type": "code",
   "execution_count": 17,
   "id": "d6a90d78",
   "metadata": {
    "execution": {
     "iopub.execute_input": "2024-07-17T12:22:19.990182Z",
     "iopub.status.busy": "2024-07-17T12:22:19.989774Z",
     "iopub.status.idle": "2024-07-17T12:22:20.003298Z",
     "shell.execute_reply": "2024-07-17T12:22:20.002136Z"
    },
    "papermill": {
     "duration": 0.03884,
     "end_time": "2024-07-17T12:22:20.005852",
     "exception": false,
     "start_time": "2024-07-17T12:22:19.967012",
     "status": "completed"
    },
    "tags": []
   },
   "outputs": [
    {
     "name": "stdout",
     "output_type": "stream",
     "text": [
      "Percentage of survivors from Cherbourg loading port: 39.22%\n",
      "Percentage of survivors from Queenstown loading port: 52.17%\n",
      "Percentage of survivors from Southampton loading port: 32.59%\n"
     ]
    }
   ],
   "source": [
    "cherbourg_survived = (dataset[(dataset['Embarked'] == 0) & (dataset['Survived'] == 1)].shape[0]) / len(dataset[dataset['Embarked'] == 0]) * 100\n",
    "queenstown_survived = (dataset[(dataset['Embarked'] == 1) & (dataset['Survived'] == 1)].shape[0]) / len(dataset[dataset['Embarked'] == 1]) * 100\n",
    "southampton_survived = (dataset[(dataset['Embarked'] == 2) & (dataset['Survived'] == 1)].shape[0]) / len(dataset[dataset['Embarked'] == 2]) * 100\n",
    "\n",
    "print(f\"Percentage of survivors from Cherbourg loading port: {cherbourg_survived:.2f}%\")\n",
    "print(f\"Percentage of survivors from Queenstown loading port: {queenstown_survived:.2f}%\")\n",
    "print(f\"Percentage of survivors from Southampton loading port: {southampton_survived:.2f}%\")"
   ]
  },
  {
   "cell_type": "markdown",
   "id": "4924ce2a",
   "metadata": {
    "papermill": {
     "duration": 0.020766,
     "end_time": "2024-07-17T12:22:20.047125",
     "exception": false,
     "start_time": "2024-07-17T12:22:20.026359",
     "status": "completed"
    },
    "tags": []
   },
   "source": [
    "### Numerical features vs Survivied"
   ]
  },
  {
   "cell_type": "markdown",
   "id": "f4bdb4e7",
   "metadata": {
    "papermill": {
     "duration": 0.020243,
     "end_time": "2024-07-17T12:22:20.088029",
     "exception": false,
     "start_time": "2024-07-17T12:22:20.067786",
     "status": "completed"
    },
    "tags": []
   },
   "source": [
    "#### Age vs survived"
   ]
  },
  {
   "cell_type": "code",
   "execution_count": 18,
   "id": "bc76f2b9",
   "metadata": {
    "execution": {
     "iopub.execute_input": "2024-07-17T12:22:20.131799Z",
     "iopub.status.busy": "2024-07-17T12:22:20.131055Z",
     "iopub.status.idle": "2024-07-17T12:22:20.140239Z",
     "shell.execute_reply": "2024-07-17T12:22:20.139051Z"
    },
    "papermill": {
     "duration": 0.034371,
     "end_time": "2024-07-17T12:22:20.142813",
     "exception": false,
     "start_time": "2024-07-17T12:22:20.108442",
     "status": "completed"
    },
    "tags": []
   },
   "outputs": [
    {
     "name": "stdout",
     "output_type": "stream",
     "text": [
      "Number of rows where 'Age' is NaN and the person did not survive: 61.\n",
      "Number of rows where 'Age' is NaN and the person survived: 25.\n"
     ]
    }
   ],
   "source": [
    "num_age_nan_and_not_survived = dataset[dataset['Age'].isna() & (dataset['Survived'] == 0)].shape[0]\n",
    "num_age_nan_and_survived = dataset[dataset['Age'].isna() & (dataset['Survived'] == 1)].shape[0]\n",
    "\n",
    "print(f\"Number of rows where 'Age' is NaN and the person did not survive: {num_age_nan_and_not_survived}.\")\n",
    "print(f\"Number of rows where 'Age' is NaN and the person survived: {num_age_nan_and_survived}.\")"
   ]
  },
  {
   "cell_type": "code",
   "execution_count": 19,
   "id": "81288b51",
   "metadata": {
    "execution": {
     "iopub.execute_input": "2024-07-17T12:22:20.187537Z",
     "iopub.status.busy": "2024-07-17T12:22:20.186347Z",
     "iopub.status.idle": "2024-07-17T12:22:20.199732Z",
     "shell.execute_reply": "2024-07-17T12:22:20.198658Z"
    },
    "papermill": {
     "duration": 0.038654,
     "end_time": "2024-07-17T12:22:20.202162",
     "exception": false,
     "start_time": "2024-07-17T12:22:20.163508",
     "status": "completed"
    },
    "tags": []
   },
   "outputs": [
    {
     "data": {
      "text/plain": [
       "count    332.000000\n",
       "mean      30.272590\n",
       "std       14.181209\n",
       "min        0.170000\n",
       "25%       21.000000\n",
       "50%       27.000000\n",
       "75%       39.000000\n",
       "max       76.000000\n",
       "Name: Age, dtype: float64"
      ]
     },
     "execution_count": 19,
     "metadata": {},
     "output_type": "execute_result"
    }
   ],
   "source": [
    "dataset['Age'].describe()"
   ]
  },
  {
   "cell_type": "code",
   "execution_count": 20,
   "id": "9528461d",
   "metadata": {
    "execution": {
     "iopub.execute_input": "2024-07-17T12:22:20.246424Z",
     "iopub.status.busy": "2024-07-17T12:22:20.245565Z",
     "iopub.status.idle": "2024-07-17T12:22:20.810761Z",
     "shell.execute_reply": "2024-07-17T12:22:20.809647Z"
    },
    "papermill": {
     "duration": 0.59001,
     "end_time": "2024-07-17T12:22:20.813226",
     "exception": false,
     "start_time": "2024-07-17T12:22:20.223216",
     "status": "completed"
    },
    "tags": []
   },
   "outputs": [
    {
     "name": "stderr",
     "output_type": "stream",
     "text": [
      "/opt/conda/lib/python3.10/site-packages/seaborn/_oldcore.py:1119: FutureWarning: use_inf_as_na option is deprecated and will be removed in a future version. Convert inf values to NaN before operating instead.\n",
      "  with pd.option_context('mode.use_inf_as_na', True):\n",
      "/opt/conda/lib/python3.10/site-packages/seaborn/_oldcore.py:1119: FutureWarning: use_inf_as_na option is deprecated and will be removed in a future version. Convert inf values to NaN before operating instead.\n",
      "  with pd.option_context('mode.use_inf_as_na', True):\n"
     ]
    },
    {
     "data": {
      "image/png": "[encoded data removed]",
      "text/plain": [
       "<Figure size 1500x1000 with 1 Axes>"
      ]
     },
     "metadata": {},
     "output_type": "display_data"
    }
   ],
   "source": [
    "age_survived = dataset['Age'][dataset['Survived'] == 1]\n",
    "age_not_survived = dataset['Age'][dataset['Survived'] == 0]\n",
    "\n",
    "fig, axs = plt.subplots(figsize=(15, 10))\n",
    "ax = sns.histplot(age_not_survived, label = 'not_survived', bins=30, kde = False, color=\"red\")\n",
    "ax = sns.histplot(age_survived, label = 'survived', bins=30, kde = False, color=\"green\")\n",
    "\n",
    "\n",
    "axs.set_xlabel('Age [in years]')\n",
    "axs.set_ylabel('Frequency')\n",
    "axs.set_title('Feature distribution of survived and not-survived Titanic passengers in particular age in the dataset.\\n', fontsize=16)\n",
    "axs.legend()\n",
    "\n",
    "plt.tight_layout()\n",
    "plt.show()"
   ]
  },
  {
   "cell_type": "markdown",
   "id": "51e1c8cc",
   "metadata": {
    "papermill": {
     "duration": 0.030562,
     "end_time": "2024-07-17T12:22:20.865538",
     "exception": false,
     "start_time": "2024-07-17T12:22:20.834976",
     "status": "completed"
    },
    "tags": []
   },
   "source": [
    "#### Fare vs survived"
   ]
  },
  {
   "cell_type": "code",
   "execution_count": 21,
   "id": "cceae3f1",
   "metadata": {
    "execution": {
     "iopub.execute_input": "2024-07-17T12:22:20.934038Z",
     "iopub.status.busy": "2024-07-17T12:22:20.933237Z",
     "iopub.status.idle": "2024-07-17T12:22:20.954300Z",
     "shell.execute_reply": "2024-07-17T12:22:20.952736Z"
    },
    "papermill": {
     "duration": 0.059777,
     "end_time": "2024-07-17T12:22:20.957818",
     "exception": false,
     "start_time": "2024-07-17T12:22:20.898041",
     "status": "completed"
    },
    "tags": []
   },
   "outputs": [
    {
     "data": {
      "text/plain": [
       "count    417.000000\n",
       "mean      35.627188\n",
       "std       55.907576\n",
       "min        0.000000\n",
       "25%        7.895800\n",
       "50%       14.454200\n",
       "75%       31.500000\n",
       "max      512.329200\n",
       "Name: Fare, dtype: float64"
      ]
     },
     "execution_count": 21,
     "metadata": {},
     "output_type": "execute_result"
    }
   ],
   "source": [
    "dataset['Fare'].describe()"
   ]
  },
  {
   "cell_type": "code",
   "execution_count": 22,
   "id": "20851007",
   "metadata": {
    "execution": {
     "iopub.execute_input": "2024-07-17T12:22:21.007230Z",
     "iopub.status.busy": "2024-07-17T12:22:21.006833Z",
     "iopub.status.idle": "2024-07-17T12:22:21.537041Z",
     "shell.execute_reply": "2024-07-17T12:22:21.535526Z"
    },
    "papermill": {
     "duration": 0.556149,
     "end_time": "2024-07-17T12:22:21.539860",
     "exception": false,
     "start_time": "2024-07-17T12:22:20.983711",
     "status": "completed"
    },
    "tags": []
   },
   "outputs": [
    {
     "name": "stderr",
     "output_type": "stream",
     "text": [
      "/opt/conda/lib/python3.10/site-packages/seaborn/_oldcore.py:1119: FutureWarning: use_inf_as_na option is deprecated and will be removed in a future version. Convert inf values to NaN before operating instead.\n",
      "  with pd.option_context('mode.use_inf_as_na', True):\n",
      "/opt/conda/lib/python3.10/site-packages/seaborn/_oldcore.py:1119: FutureWarning: use_inf_as_na option is deprecated and will be removed in a future version. Convert inf values to NaN before operating instead.\n",
      "  with pd.option_context('mode.use_inf_as_na', True):\n"
     ]
    },
    {
     "data": {
      "image/png": "[encoded data removed]",
      "text/plain": [
       "<Figure size 1500x1000 with 1 Axes>"
      ]
     },
     "metadata": {},
     "output_type": "display_data"
    }
   ],
   "source": [
    "fare_survived = dataset['Fare'][dataset['Survived'] == 1]\n",
    "fare_not_survived = dataset['Fare'][dataset['Survived'] == 0]\n",
    "\n",
    "fig, axs = plt.subplots(figsize=(15, 10))\n",
    "ax = sns.histplot(fare_survived, label = 'survived', bins=30, kde = False, color=\"green\")\n",
    "ax = sns.histplot(fare_not_survived, label = 'not_survived', bins=30, kde = False, color=\"red\")\n",
    "\n",
    "axs.set_xlabel('Fare')\n",
    "axs.set_ylabel('Frequency')\n",
    "axs.set_title('Distribution of fares among survived and non-survived Titanic passengers in the dataset.\\n', fontsize=16)\n",
    "axs.legend()\n",
    "\n",
    "plt.tight_layout()\n",
    "plt.show()"
   ]
  },
  {
   "cell_type": "markdown",
   "id": "ea4a5b30",
   "metadata": {
    "papermill": {
     "duration": 0.022234,
     "end_time": "2024-07-17T12:22:21.584531",
     "exception": false,
     "start_time": "2024-07-17T12:22:21.562297",
     "status": "completed"
    },
    "tags": []
   },
   "source": [
    "#### Sibsp vs survived"
   ]
  },
  {
   "cell_type": "code",
   "execution_count": 23,
   "id": "0ff01800",
   "metadata": {
    "execution": {
     "iopub.execute_input": "2024-07-17T12:22:21.631399Z",
     "iopub.status.busy": "2024-07-17T12:22:21.630565Z",
     "iopub.status.idle": "2024-07-17T12:22:21.641355Z",
     "shell.execute_reply": "2024-07-17T12:22:21.640125Z"
    },
    "papermill": {
     "duration": 0.036692,
     "end_time": "2024-07-17T12:22:21.643706",
     "exception": false,
     "start_time": "2024-07-17T12:22:21.607014",
     "status": "completed"
    },
    "tags": []
   },
   "outputs": [
    {
     "data": {
      "text/plain": [
       "count    418.000000\n",
       "mean       0.447368\n",
       "std        0.896760\n",
       "min        0.000000\n",
       "25%        0.000000\n",
       "50%        0.000000\n",
       "75%        1.000000\n",
       "max        8.000000\n",
       "Name: SibSp, dtype: float64"
      ]
     },
     "execution_count": 23,
     "metadata": {},
     "output_type": "execute_result"
    }
   ],
   "source": [
    "dataset['SibSp'].describe()"
   ]
  },
  {
   "cell_type": "code",
   "execution_count": 24,
   "id": "2def6b22",
   "metadata": {
    "execution": {
     "iopub.execute_input": "2024-07-17T12:22:21.691723Z",
     "iopub.status.busy": "2024-07-17T12:22:21.691307Z",
     "iopub.status.idle": "2024-07-17T12:22:22.092991Z",
     "shell.execute_reply": "2024-07-17T12:22:22.091841Z"
    },
    "papermill": {
     "duration": 0.428438,
     "end_time": "2024-07-17T12:22:22.095436",
     "exception": false,
     "start_time": "2024-07-17T12:22:21.666998",
     "status": "completed"
    },
    "tags": []
   },
   "outputs": [
    {
     "data": {
      "image/png": "[encoded data removed]",
      "text/plain": [
       "<Figure size 1500x1000 with 1 Axes>"
      ]
     },
     "metadata": {},
     "output_type": "display_data"
    }
   ],
   "source": [
    "sibsp_survived = dataset['SibSp'][dataset['Survived'] == 1]\n",
    "sibsp_not_survived = dataset['SibSp'][dataset['Survived'] == 0]\n",
    "bar_width = 0.4\n",
    "\n",
    "hist_survived = sibsp_survived.value_counts().sort_index()\n",
    "hist_not_survived = sibsp_not_survived.value_counts().sort_index()\n",
    "\n",
    "max_sibsp = max(hist_survived.index.append(hist_not_survived.index))\n",
    "\n",
    "hist_survived = hist_survived.reindex(range(max_sibsp+1), fill_value=0)\n",
    "hist_not_survived = hist_not_survived.reindex(range(max_sibsp+1), fill_value=0)\n",
    "\n",
    "fig, ax = plt.subplots(figsize=(15, 10))\n",
    "\n",
    "x = range(max_sibsp + 1)\n",
    "\n",
    "bar1 = ax.bar(x, hist_not_survived, color='red', width=bar_width, label='Not Survived', align='center')\n",
    "bar2 = ax.bar([p + bar_width for p in x], hist_survived, color='green', width=bar_width, label='Survived', align='center')\n",
    "\n",
    "ax.set_xlabel('Number of Siblings/Spouses Aboard')\n",
    "ax.set_ylabel('Frequency')\n",
    "ax.set_title('Distribution of Siblings/Spouses Aboard among Survived and Non-Survived Titanic Passengers in the Dataset', fontsize=16)\n",
    "ax.set_xticks([p + bar_width / 2 for p in x])\n",
    "ax.set_xticklabels(range(max_sibsp + 1))\n",
    "ax.legend()\n",
    "\n",
    "plt.tight_layout()\n",
    "plt.show()"
   ]
  },
  {
   "cell_type": "markdown",
   "id": "2fbefd18",
   "metadata": {
    "papermill": {
     "duration": 0.023195,
     "end_time": "2024-07-17T12:22:22.142185",
     "exception": false,
     "start_time": "2024-07-17T12:22:22.118990",
     "status": "completed"
    },
    "tags": []
   },
   "source": [
    "#### Parch vs survived"
   ]
  },
  {
   "cell_type": "code",
   "execution_count": 25,
   "id": "141c7858",
   "metadata": {
    "execution": {
     "iopub.execute_input": "2024-07-17T12:22:22.191619Z",
     "iopub.status.busy": "2024-07-17T12:22:22.191191Z",
     "iopub.status.idle": "2024-07-17T12:22:22.202188Z",
     "shell.execute_reply": "2024-07-17T12:22:22.201208Z"
    },
    "papermill": {
     "duration": 0.038536,
     "end_time": "2024-07-17T12:22:22.204593",
     "exception": false,
     "start_time": "2024-07-17T12:22:22.166057",
     "status": "completed"
    },
    "tags": []
   },
   "outputs": [
    {
     "data": {
      "text/plain": [
       "count    418.000000\n",
       "mean       0.392344\n",
       "std        0.981429\n",
       "min        0.000000\n",
       "25%        0.000000\n",
       "50%        0.000000\n",
       "75%        0.000000\n",
       "max        9.000000\n",
       "Name: Parch, dtype: float64"
      ]
     },
     "execution_count": 25,
     "metadata": {},
     "output_type": "execute_result"
    }
   ],
   "source": [
    "dataset['Parch'].describe()"
   ]
  },
  {
   "cell_type": "code",
   "execution_count": 26,
   "id": "d6ffba51",
   "metadata": {
    "execution": {
     "iopub.execute_input": "2024-07-17T12:22:22.253510Z",
     "iopub.status.busy": "2024-07-17T12:22:22.253120Z",
     "iopub.status.idle": "2024-07-17T12:22:22.687646Z",
     "shell.execute_reply": "2024-07-17T12:22:22.686383Z"
    },
    "papermill": {
     "duration": 0.462264,
     "end_time": "2024-07-17T12:22:22.690253",
     "exception": false,
     "start_time": "2024-07-17T12:22:22.227989",
     "status": "completed"
    },
    "tags": []
   },
   "outputs": [
    {
     "data": {
      "image/png": "[encoded data removed]",
      "text/plain": [
       "<Figure size 1500x1000 with 1 Axes>"
      ]
     },
     "metadata": {},
     "output_type": "display_data"
    }
   ],
   "source": [
    "parch_survived = dataset['Parch'][dataset['Survived'] == 1]\n",
    "parch_not_survived = dataset['Parch'][dataset['Survived'] == 0]\n",
    "bar_width = 0.4\n",
    "\n",
    "hist_survived = parch_survived.value_counts().sort_index()\n",
    "hist_not_survived = parch_not_survived.value_counts().sort_index()\n",
    "\n",
    "max_parch = max(hist_survived.index.append(hist_not_survived.index))\n",
    "\n",
    "hist_survived = hist_survived.reindex(range(max_parch+1), fill_value=0)\n",
    "hist_not_survived = hist_not_survived.reindex(range(max_parch+1), fill_value=0)\n",
    "\n",
    "fig, ax = plt.subplots(figsize=(15, 10))\n",
    "\n",
    "x = range(max_parch + 1)\n",
    "\n",
    "bar1 = ax.bar(x, hist_not_survived, color='red', width=bar_width, label='Not Survived', align='center')\n",
    "bar2 = ax.bar([p + bar_width for p in x], hist_survived, color='green', width=bar_width, label='Survived', align='center')\n",
    "\n",
    "ax.set_xlabel('Number of parents or children aboard.')\n",
    "ax.set_ylabel('Frequency')\n",
    "ax.set_title('Distribution of parents or children aboard among Survived and Non-Survived Titanic Passengers in the Dataset', fontsize=16)\n",
    "ax.set_xticks([p + bar_width / 2 for p in x])\n",
    "ax.set_xticklabels(range(max_parch + 1))\n",
    "ax.legend()\n",
    "\n",
    "plt.tight_layout()\n",
    "plt.show()"
   ]
  },
  {
   "cell_type": "markdown",
   "id": "1a190b77",
   "metadata": {
    "papermill": {
     "duration": 0.026955,
     "end_time": "2024-07-17T12:22:22.742954",
     "exception": false,
     "start_time": "2024-07-17T12:22:22.715999",
     "status": "completed"
    },
    "tags": []
   },
   "source": [
    " <h3 style=\"text-align: center; color: #0066CC;\">Insights and Conclusions</h3>\n",
    "\n",
    "- **First-class tickets** provided the highest chance of survival at 42.73%. However, this chance did not exceed 50%. The **lowest survival chances** were found for passengers in second class (32.36%) and third class (33.03%).\n",
    "\n",
    "- In the analyzed data, **all women survived**, while **all men perished**.\n",
    "\n",
    "- **The greatest chance of survival** was for passengers in cabins marked with the letter \"G,\" where the survival rate was 100%. For other cabins, the chances of survival ranged from 37.50% to 54.29%. It should be noted that data for 327 observations are missing, which represents 78.22% of the total.\n",
    "\n",
    "- **The best chances of survival** were for passengers boarding at **Queenstown** (52.17%), while the **lowest chances** were for those boarding in **Southampton** (32.59%).\n",
    "\n",
    "- The chart showing the **distribution of passengers by age** reveals that many children aged 0-10 survived. In the age range of 20-40 years, there is a noticeable predominance of those who did not survive. There is a clear trend indicating that the probability of survival decreased with increasing age.\n",
    "\n",
    "- The **histogram of fares** shows a significant difference in ticket prices between survivors and non-survivors. Most survivors paid lower fares, while most of those who did not survive paid higher fares. This suggests that those with more resources may have had better conditions for survival, such as a ticket on a higher deck, or that those with fewer resources were assigned to lower decks. In the \"Fare\" column, 75% of observations have prices up to 31.50, with an average price of 35.63, a wide price range indicated by a standard deviation of 55.91, and a maximum price of 512.33.\n",
    "\n",
    "- The distribution of **siblings or spouses** among survivors and non-survivors shows that the greatest difference between the \"survived\" and \"not survived\" groups occurs for having **0 siblings or spouses**. For higher numbers of siblings/spouses, the number of survivors and non-survivors is similar. Similar conclusions can be drawn from the analysis of the number of parents or children aboard among the \"survived\" and \"not survived\" groups. For a value of 0, there is a noticeable difference where more people did not survive."
   ]
  },
  {
   "cell_type": "markdown",
   "id": "a3a55c07",
   "metadata": {
    "papermill": {
     "duration": 0.025084,
     "end_time": "2024-07-17T12:22:22.792532",
     "exception": false,
     "start_time": "2024-07-17T12:22:22.767448",
     "status": "completed"
    },
    "tags": []
   },
   "source": [
    "<h1 style=\"text-align: center; color: #0066CC;\">Feature Engineering part 2</h1>\n",
    "In the model, we will use 4 features: Pclass, sex/gender, age, and fare. In the previous step, we converted categorical data into numbers, and now we need to handle the missing values in age and fare."
   ]
  },
  {
   "cell_type": "code",
   "execution_count": 27,
   "id": "9055f842",
   "metadata": {
    "execution": {
     "iopub.execute_input": "2024-07-17T12:22:22.844651Z",
     "iopub.status.busy": "2024-07-17T12:22:22.843486Z",
     "iopub.status.idle": "2024-07-17T12:22:23.157520Z",
     "shell.execute_reply": "2024-07-17T12:22:23.156288Z"
    },
    "papermill": {
     "duration": 0.343009,
     "end_time": "2024-07-17T12:22:23.160228",
     "exception": false,
     "start_time": "2024-07-17T12:22:22.817219",
     "status": "completed"
    },
    "tags": []
   },
   "outputs": [
    {
     "data": {
      "text/html": [
       "<style>#sk-container-id-1 {color: black;background-color: white;}#sk-container-id-1 pre{padding: 0;}#sk-container-id-1 div.sk-toggleable {background-color: white;}#sk-container-id-1 label.sk-toggleable__label {cursor: pointer;display: block;width: 100%;margin-bottom: 0;padding: 0.3em;box-sizing: border-box;text-align: center;}#sk-container-id-1 label.sk-toggleable__label-arrow:before {content: \"▸\";float: left;margin-right: 0.25em;color: #696969;}#sk-container-id-1 label.sk-toggleable__label-arrow:hover:before {color: black;}#sk-container-id-1 div.sk-estimator:hover label.sk-toggleable__label-arrow:before {color: black;}#sk-container-id-1 div.sk-toggleable__content {max-height: 0;max-width: 0;overflow: hidden;text-align: left;background-color: #f0f8ff;}#sk-container-id-1 div.sk-toggleable__content pre {margin: 0.2em;color: black;border-radius: 0.25em;background-color: #f0f8ff;}#sk-container-id-1 input.sk-toggleable__control:checked~div.sk-toggleable__content {max-height: 200px;max-width: 100%;overflow: auto;}#sk-container-id-1 input.sk-toggleable__control:checked~label.sk-toggleable__label-arrow:before {content: \"▾\";}#sk-container-id-1 div.sk-estimator input.sk-toggleable__control:checked~label.sk-toggleable__label {background-color: #d4ebff;}#sk-container-id-1 div.sk-label input.sk-toggleable__control:checked~label.sk-toggleable__label {background-color: #d4ebff;}#sk-container-id-1 input.sk-hidden--visually {border: 0;clip: rect(1px 1px 1px 1px);clip: rect(1px, 1px, 1px, 1px);height: 1px;margin: -1px;overflow: hidden;padding: 0;position: absolute;width: 1px;}#sk-container-id-1 div.sk-estimator {font-family: monospace;background-color: #f0f8ff;border: 1px dotted black;border-radius: 0.25em;box-sizing: border-box;margin-bottom: 0.5em;}#sk-container-id-1 div.sk-estimator:hover {background-color: #d4ebff;}#sk-container-id-1 div.sk-parallel-item::after {content: \"\";width: 100%;border-bottom: 1px solid gray;flex-grow: 1;}#sk-container-id-1 div.sk-label:hover label.sk-toggleable__label {background-color: #d4ebff;}#sk-container-id-1 div.sk-serial::before {content: \"\";position: absolute;border-left: 1px solid gray;box-sizing: border-box;top: 0;bottom: 0;left: 50%;z-index: 0;}#sk-container-id-1 div.sk-serial {display: flex;flex-direction: column;align-items: center;background-color: white;padding-right: 0.2em;padding-left: 0.2em;position: relative;}#sk-container-id-1 div.sk-item {position: relative;z-index: 1;}#sk-container-id-1 div.sk-parallel {display: flex;align-items: stretch;justify-content: center;background-color: white;position: relative;}#sk-container-id-1 div.sk-item::before, #sk-container-id-1 div.sk-parallel-item::before {content: \"\";position: absolute;border-left: 1px solid gray;box-sizing: border-box;top: 0;bottom: 0;left: 50%;z-index: -1;}#sk-container-id-1 div.sk-parallel-item {display: flex;flex-direction: column;z-index: 1;position: relative;background-color: white;}#sk-container-id-1 div.sk-parallel-item:first-child::after {align-self: flex-end;width: 50%;}#sk-container-id-1 div.sk-parallel-item:last-child::after {align-self: flex-start;width: 50%;}#sk-container-id-1 div.sk-parallel-item:only-child::after {width: 0;}#sk-container-id-1 div.sk-dashed-wrapped {border: 1px dashed gray;margin: 0 0.4em 0.5em 0.4em;box-sizing: border-box;padding-bottom: 0.4em;background-color: white;}#sk-container-id-1 div.sk-label label {font-family: monospace;font-weight: bold;display: inline-block;line-height: 1.2em;}#sk-container-id-1 div.sk-label-container {text-align: center;}#sk-container-id-1 div.sk-container {/* jupyter's `normalize.less` sets `[hidden] { display: none; }` but bootstrap.min.css set `[hidden] { display: none !important; }` so we also need the `!important` here to be able to override the default hidden behavior on the sphinx rendered scikit-learn.org. See: https://github.com/scikit-learn/scikit-learn/issues/21755 */display: inline-block !important;position: relative;}#sk-container-id-1 div.sk-text-repr-fallback {display: none;}</style><div id=\"sk-container-id-1\" class=\"sk-top-container\"><div class=\"sk-text-repr-fallback\"><pre>SimpleImputer()</pre><b>In a Jupyter environment, please rerun this cell to show the HTML representation or trust the notebook. <br />On GitHub, the HTML representation is unable to render, please try loading this page with nbviewer.org.</b></div><div class=\"sk-container\" hidden><div class=\"sk-item\"><div class=\"sk-estimator sk-toggleable\"><input class=\"sk-toggleable__control sk-hidden--visually\" id=\"sk-estimator-id-1\" type=\"checkbox\" checked><label for=\"sk-estimator-id-1\" class=\"sk-toggleable__label sk-toggleable__label-arrow\">SimpleImputer</label><div class=\"sk-toggleable__content\"><pre>SimpleImputer()</pre></div></div></div></div></div>"
      ],
      "text/plain": [
       "SimpleImputer()"
      ]
     },
     "execution_count": 27,
     "metadata": {},
     "output_type": "execute_result"
    }
   ],
   "source": [
    "dataset_ml = dataset.iloc[:, [1,2,4,5,9]]\n",
    "from sklearn.impute import SimpleImputer\n",
    "\n",
    "imputer = SimpleImputer(strategy = 'mean').set_output(transform=\"pandas\")\n",
    "imputer.fit(dataset_ml)"
   ]
  },
  {
   "cell_type": "code",
   "execution_count": 28,
   "id": "857fb49c",
   "metadata": {
    "execution": {
     "iopub.execute_input": "2024-07-17T12:22:23.211385Z",
     "iopub.status.busy": "2024-07-17T12:22:23.210964Z",
     "iopub.status.idle": "2024-07-17T12:22:23.219611Z",
     "shell.execute_reply": "2024-07-17T12:22:23.218628Z"
    },
    "papermill": {
     "duration": 0.037033,
     "end_time": "2024-07-17T12:22:23.221899",
     "exception": false,
     "start_time": "2024-07-17T12:22:23.184866",
     "status": "completed"
    },
    "tags": []
   },
   "outputs": [],
   "source": [
    "dataset_ml = imputer.transform(dataset_ml)"
   ]
  },
  {
   "cell_type": "code",
   "execution_count": 29,
   "id": "e6575500",
   "metadata": {
    "execution": {
     "iopub.execute_input": "2024-07-17T12:22:23.273070Z",
     "iopub.status.busy": "2024-07-17T12:22:23.272641Z",
     "iopub.status.idle": "2024-07-17T12:22:23.281274Z",
     "shell.execute_reply": "2024-07-17T12:22:23.280166Z"
    },
    "papermill": {
     "duration": 0.036799,
     "end_time": "2024-07-17T12:22:23.283543",
     "exception": false,
     "start_time": "2024-07-17T12:22:23.246744",
     "status": "completed"
    },
    "tags": []
   },
   "outputs": [
    {
     "data": {
      "text/plain": [
       "Survived    0\n",
       "Pclass      0\n",
       "Sex         0\n",
       "Age         0\n",
       "Fare        0\n",
       "dtype: int64"
      ]
     },
     "execution_count": 29,
     "metadata": {},
     "output_type": "execute_result"
    }
   ],
   "source": [
    "dataset_ml.isnull().sum()"
   ]
  },
  {
   "cell_type": "code",
   "execution_count": 30,
   "id": "e7d15edf",
   "metadata": {
    "execution": {
     "iopub.execute_input": "2024-07-17T12:22:23.336040Z",
     "iopub.status.busy": "2024-07-17T12:22:23.335661Z",
     "iopub.status.idle": "2024-07-17T12:22:23.349516Z",
     "shell.execute_reply": "2024-07-17T12:22:23.348409Z"
    },
    "papermill": {
     "duration": 0.042309,
     "end_time": "2024-07-17T12:22:23.351685",
     "exception": false,
     "start_time": "2024-07-17T12:22:23.309376",
     "status": "completed"
    },
    "tags": []
   },
   "outputs": [
    {
     "data": {
      "text/html": [
       "<div>\n",
       "<style scoped>\n",
       "    .dataframe tbody tr th:only-of-type {\n",
       "        vertical-align: middle;\n",
       "    }\n",
       "\n",
       "    .dataframe tbody tr th {\n",
       "        vertical-align: top;\n",
       "    }\n",
       "\n",
       "    .dataframe thead th {\n",
       "        text-align: right;\n",
       "    }\n",
       "</style>\n",
       "<table border=\"1\" class=\"dataframe\">\n",
       "  <thead>\n",
       "    <tr style=\"text-align: right;\">\n",
       "      <th></th>\n",
       "      <th>Survived</th>\n",
       "      <th>Pclass</th>\n",
       "      <th>Sex</th>\n",
       "      <th>Age</th>\n",
       "      <th>Fare</th>\n",
       "    </tr>\n",
       "  </thead>\n",
       "  <tbody>\n",
       "    <tr>\n",
       "      <th>0</th>\n",
       "      <td>0.0</td>\n",
       "      <td>3.0</td>\n",
       "      <td>1.0</td>\n",
       "      <td>34.5</td>\n",
       "      <td>7.8292</td>\n",
       "    </tr>\n",
       "    <tr>\n",
       "      <th>1</th>\n",
       "      <td>1.0</td>\n",
       "      <td>3.0</td>\n",
       "      <td>0.0</td>\n",
       "      <td>47.0</td>\n",
       "      <td>7.0000</td>\n",
       "    </tr>\n",
       "    <tr>\n",
       "      <th>2</th>\n",
       "      <td>0.0</td>\n",
       "      <td>2.0</td>\n",
       "      <td>1.0</td>\n",
       "      <td>62.0</td>\n",
       "      <td>9.6875</td>\n",
       "    </tr>\n",
       "    <tr>\n",
       "      <th>3</th>\n",
       "      <td>0.0</td>\n",
       "      <td>3.0</td>\n",
       "      <td>1.0</td>\n",
       "      <td>27.0</td>\n",
       "      <td>8.6625</td>\n",
       "    </tr>\n",
       "    <tr>\n",
       "      <th>4</th>\n",
       "      <td>1.0</td>\n",
       "      <td>3.0</td>\n",
       "      <td>0.0</td>\n",
       "      <td>22.0</td>\n",
       "      <td>12.2875</td>\n",
       "    </tr>\n",
       "  </tbody>\n",
       "</table>\n",
       "</div>"
      ],
      "text/plain": [
       "   Survived  Pclass  Sex   Age     Fare\n",
       "0       0.0     3.0  1.0  34.5   7.8292\n",
       "1       1.0     3.0  0.0  47.0   7.0000\n",
       "2       0.0     2.0  1.0  62.0   9.6875\n",
       "3       0.0     3.0  1.0  27.0   8.6625\n",
       "4       1.0     3.0  0.0  22.0  12.2875"
      ]
     },
     "execution_count": 30,
     "metadata": {},
     "output_type": "execute_result"
    }
   ],
   "source": [
    "dataset_ml.head()"
   ]
  },
  {
   "cell_type": "markdown",
   "id": "64119c46",
   "metadata": {
    "papermill": {
     "duration": 0.024783,
     "end_time": "2024-07-17T12:22:23.401448",
     "exception": false,
     "start_time": "2024-07-17T12:22:23.376665",
     "status": "completed"
    },
    "tags": []
   },
   "source": [
    "<h1 style=\"text-align: center; color: #0066CC;\">Classification Models</h1>"
   ]
  },
  {
   "cell_type": "markdown",
   "id": "4c8430c8",
   "metadata": {
    "papermill": {
     "duration": 0.024886,
     "end_time": "2024-07-17T12:22:23.451239",
     "exception": false,
     "start_time": "2024-07-17T12:22:23.426353",
     "status": "completed"
    },
    "tags": []
   },
   "source": [
    "### Spliting dataset into feature and label"
   ]
  },
  {
   "cell_type": "code",
   "execution_count": 31,
   "id": "a63231ea",
   "metadata": {
    "execution": {
     "iopub.execute_input": "2024-07-17T12:22:23.503535Z",
     "iopub.status.busy": "2024-07-17T12:22:23.503126Z",
     "iopub.status.idle": "2024-07-17T12:22:23.509460Z",
     "shell.execute_reply": "2024-07-17T12:22:23.508265Z"
    },
    "papermill": {
     "duration": 0.035522,
     "end_time": "2024-07-17T12:22:23.511733",
     "exception": false,
     "start_time": "2024-07-17T12:22:23.476211",
     "status": "completed"
    },
    "tags": []
   },
   "outputs": [],
   "source": [
    "X = dataset_ml.iloc[:,1:].values\n",
    "y = dataset.iloc[:, 1].values"
   ]
  },
  {
   "cell_type": "markdown",
   "id": "29776770",
   "metadata": {
    "papermill": {
     "duration": 0.02492,
     "end_time": "2024-07-17T12:22:23.561810",
     "exception": false,
     "start_time": "2024-07-17T12:22:23.536890",
     "status": "completed"
    },
    "tags": []
   },
   "source": [
    "### Splitting dataset into the Training set and Test set"
   ]
  },
  {
   "cell_type": "code",
   "execution_count": 32,
   "id": "0fe4e74a",
   "metadata": {
    "execution": {
     "iopub.execute_input": "2024-07-17T12:22:23.613670Z",
     "iopub.status.busy": "2024-07-17T12:22:23.613256Z",
     "iopub.status.idle": "2024-07-17T12:22:23.621844Z",
     "shell.execute_reply": "2024-07-17T12:22:23.620651Z"
    },
    "papermill": {
     "duration": 0.03749,
     "end_time": "2024-07-17T12:22:23.624315",
     "exception": false,
     "start_time": "2024-07-17T12:22:23.586825",
     "status": "completed"
    },
    "tags": []
   },
   "outputs": [],
   "source": [
    "from sklearn.model_selection import train_test_split\n",
    "X_train, X_test, y_train, y_test = train_test_split(X, y, test_size = 0.25, random_state = 0)"
   ]
  },
  {
   "cell_type": "code",
   "execution_count": 33,
   "id": "63f7b620",
   "metadata": {
    "execution": {
     "iopub.execute_input": "2024-07-17T12:22:23.677169Z",
     "iopub.status.busy": "2024-07-17T12:22:23.676732Z",
     "iopub.status.idle": "2024-07-17T12:22:23.684535Z",
     "shell.execute_reply": "2024-07-17T12:22:23.683611Z"
    },
    "papermill": {
     "duration": 0.037152,
     "end_time": "2024-07-17T12:22:23.687121",
     "exception": false,
     "start_time": "2024-07-17T12:22:23.649969",
     "status": "completed"
    },
    "tags": []
   },
   "outputs": [],
   "source": [
    "from sklearn.preprocessing import StandardScaler\n",
    "sc = StandardScaler()\n",
    "X_train = sc.fit_transform(X_train)\n",
    "X_test = sc.transform(X_test)"
   ]
  },
  {
   "cell_type": "markdown",
   "id": "2de32552",
   "metadata": {
    "papermill": {
     "duration": 0.025002,
     "end_time": "2024-07-17T12:22:23.737342",
     "exception": false,
     "start_time": "2024-07-17T12:22:23.712340",
     "status": "completed"
    },
    "tags": []
   },
   "source": [
    "## Logistic regression"
   ]
  },
  {
   "cell_type": "code",
   "execution_count": 34,
   "id": "82f9a4d8",
   "metadata": {
    "execution": {
     "iopub.execute_input": "2024-07-17T12:22:23.790908Z",
     "iopub.status.busy": "2024-07-17T12:22:23.790470Z",
     "iopub.status.idle": "2024-07-17T12:22:23.806158Z",
     "shell.execute_reply": "2024-07-17T12:22:23.805179Z"
    },
    "papermill": {
     "duration": 0.045113,
     "end_time": "2024-07-17T12:22:23.808854",
     "exception": false,
     "start_time": "2024-07-17T12:22:23.763741",
     "status": "completed"
    },
    "tags": []
   },
   "outputs": [],
   "source": [
    "from sklearn.linear_model import LogisticRegression\n",
    "logistic_regression_classifier = LogisticRegression(random_state = 0)\n",
    "logistic_regression_classifier.fit(X_train, y_train)\n",
    "logistic_regression_y_pred = logistic_regression_classifier.predict(X_test)"
   ]
  },
  {
   "cell_type": "markdown",
   "id": "0fe191e2",
   "metadata": {
    "papermill": {
     "duration": 0.024795,
     "end_time": "2024-07-17T12:22:23.858755",
     "exception": false,
     "start_time": "2024-07-17T12:22:23.833960",
     "status": "completed"
    },
    "tags": []
   },
   "source": [
    "## K_Nearest Neighbors (K-NN)"
   ]
  },
  {
   "cell_type": "code",
   "execution_count": 35,
   "id": "403ff844",
   "metadata": {
    "execution": {
     "iopub.execute_input": "2024-07-17T12:22:23.910002Z",
     "iopub.status.busy": "2024-07-17T12:22:23.909601Z",
     "iopub.status.idle": "2024-07-17T12:22:23.924183Z",
     "shell.execute_reply": "2024-07-17T12:22:23.923196Z"
    },
    "papermill": {
     "duration": 0.043002,
     "end_time": "2024-07-17T12:22:23.926494",
     "exception": false,
     "start_time": "2024-07-17T12:22:23.883492",
     "status": "completed"
    },
    "tags": []
   },
   "outputs": [],
   "source": [
    "from sklearn.neighbors import KNeighborsClassifier\n",
    "knn_classifier = KNeighborsClassifier(n_neighbors = 5, metric = 'minkowski', p = 2)\n",
    "knn_classifier.fit(X_train, y_train)\n",
    "knn_y_pred = knn_classifier.predict(X_test)"
   ]
  },
  {
   "cell_type": "markdown",
   "id": "3844f06b",
   "metadata": {
    "papermill": {
     "duration": 0.024508,
     "end_time": "2024-07-17T12:22:23.976145",
     "exception": false,
     "start_time": "2024-07-17T12:22:23.951637",
     "status": "completed"
    },
    "tags": []
   },
   "source": [
    "## Decision Tree"
   ]
  },
  {
   "cell_type": "code",
   "execution_count": 36,
   "id": "b6e1c54a",
   "metadata": {
    "execution": {
     "iopub.execute_input": "2024-07-17T12:22:24.027551Z",
     "iopub.status.busy": "2024-07-17T12:22:24.027129Z",
     "iopub.status.idle": "2024-07-17T12:22:24.069047Z",
     "shell.execute_reply": "2024-07-17T12:22:24.067885Z"
    },
    "papermill": {
     "duration": 0.070899,
     "end_time": "2024-07-17T12:22:24.071750",
     "exception": false,
     "start_time": "2024-07-17T12:22:24.000851",
     "status": "completed"
    },
    "tags": []
   },
   "outputs": [],
   "source": [
    "from sklearn.tree import DecisionTreeClassifier\n",
    "decision_tree_classifier = DecisionTreeClassifier(random_state=0)\n",
    "decision_tree_classifier.fit(X_train, y_train)\n",
    "decision_tree_y_pred = decision_tree_classifier.predict(X_test)"
   ]
  },
  {
   "cell_type": "markdown",
   "id": "cb821f62",
   "metadata": {
    "papermill": {
     "duration": 0.025281,
     "end_time": "2024-07-17T12:22:24.121795",
     "exception": false,
     "start_time": "2024-07-17T12:22:24.096514",
     "status": "completed"
    },
    "tags": []
   },
   "source": [
    "## Support Vector Classifier"
   ]
  },
  {
   "cell_type": "code",
   "execution_count": 37,
   "id": "c84c626b",
   "metadata": {
    "execution": {
     "iopub.execute_input": "2024-07-17T12:22:24.173635Z",
     "iopub.status.busy": "2024-07-17T12:22:24.173197Z",
     "iopub.status.idle": "2024-07-17T12:22:24.184111Z",
     "shell.execute_reply": "2024-07-17T12:22:24.182858Z"
    },
    "papermill": {
     "duration": 0.039715,
     "end_time": "2024-07-17T12:22:24.186805",
     "exception": false,
     "start_time": "2024-07-17T12:22:24.147090",
     "status": "completed"
    },
    "tags": []
   },
   "outputs": [],
   "source": [
    "from sklearn.svm import SVC\n",
    "kernel_svc_classifier = SVC(kernel = 'rbf', random_state = 0)\n",
    "kernel_svc_classifier.fit(X_train, y_train)\n",
    "kernel_svc_y_pred = kernel_svc_classifier.predict(X_test)"
   ]
  },
  {
   "cell_type": "markdown",
   "id": "e5ff7c09",
   "metadata": {
    "papermill": {
     "duration": 0.024992,
     "end_time": "2024-07-17T12:22:24.237118",
     "exception": false,
     "start_time": "2024-07-17T12:22:24.212126",
     "status": "completed"
    },
    "tags": []
   },
   "source": [
    "<h1 style=\"text-align: center; color: #0066CC;\">Model evaluation</h1>"
   ]
  },
  {
   "cell_type": "code",
   "execution_count": 38,
   "id": "0d417b2a",
   "metadata": {
    "execution": {
     "iopub.execute_input": "2024-07-17T12:22:24.288710Z",
     "iopub.status.busy": "2024-07-17T12:22:24.288257Z",
     "iopub.status.idle": "2024-07-17T12:22:24.293676Z",
     "shell.execute_reply": "2024-07-17T12:22:24.292624Z"
    },
    "papermill": {
     "duration": 0.03401,
     "end_time": "2024-07-17T12:22:24.295958",
     "exception": false,
     "start_time": "2024-07-17T12:22:24.261948",
     "status": "completed"
    },
    "tags": []
   },
   "outputs": [],
   "source": [
    "classification_models = ['Logistic regression', 'K-NN','Decision Tree', 'SVC']\n",
    "y_pred_list = [logistic_regression_y_pred, knn_y_pred, decision_tree_y_pred, kernel_svc_y_pred]"
   ]
  },
  {
   "cell_type": "markdown",
   "id": "3de30d76",
   "metadata": {
    "papermill": {
     "duration": 0.024883,
     "end_time": "2024-07-17T12:22:24.345772",
     "exception": false,
     "start_time": "2024-07-17T12:22:24.320889",
     "status": "completed"
    },
    "tags": []
   },
   "source": [
    "## Model metrics"
   ]
  },
  {
   "cell_type": "code",
   "execution_count": 39,
   "id": "35239f6d",
   "metadata": {
    "execution": {
     "iopub.execute_input": "2024-07-17T12:22:24.397420Z",
     "iopub.status.busy": "2024-07-17T12:22:24.396646Z",
     "iopub.status.idle": "2024-07-17T12:22:24.430316Z",
     "shell.execute_reply": "2024-07-17T12:22:24.429109Z"
    },
    "papermill": {
     "duration": 0.062212,
     "end_time": "2024-07-17T12:22:24.432698",
     "exception": false,
     "start_time": "2024-07-17T12:22:24.370486",
     "status": "completed"
    },
    "tags": []
   },
   "outputs": [
    {
     "name": "stdout",
     "output_type": "stream",
     "text": [
      "                 Model  Accuracy Score  Precision Score  Recall Score  \\\n",
      "0  Logistic regression            1.00             1.00          1.00   \n",
      "1                 K-NN            0.99             0.99          0.99   \n",
      "2        Decision Tree            1.00             1.00          1.00   \n",
      "3                  SVC            1.00             1.00          1.00   \n",
      "\n",
      "   F1 Score  \n",
      "0      1.00  \n",
      "1      0.99  \n",
      "2      1.00  \n",
      "3      1.00  \n"
     ]
    }
   ],
   "source": [
    "from sklearn.metrics import accuracy_score, precision_score, recall_score, f1_score \n",
    "\n",
    "metrics = {'Model': [], 'Accuracy Score': [], 'Precision Score': [], 'Recall Score': [], 'F1 Score': []}\n",
    "\n",
    "for model_name, y_pred in zip(classification_models, y_pred_list):\n",
    "    metrics['Model'].append(model_name)\n",
    "    metrics['Accuracy Score'].append(round(accuracy_score(y_test, y_pred), 2))\n",
    "    metrics['Precision Score'].append(round(precision_score(y_test, y_pred, average='weighted'), 2))\n",
    "    metrics['Recall Score'].append(round(recall_score(y_test, y_pred, average='weighted'), 2))\n",
    "    metrics['F1 Score'].append(round(f1_score(y_test, y_pred, average='macro'), 2))\n",
    "\n",
    "model_metrics = pd.DataFrame(metrics)\n",
    "\n",
    "print(model_metrics)"
   ]
  },
  {
   "cell_type": "markdown",
   "id": "e87a2f43",
   "metadata": {
    "papermill": {
     "duration": 0.025088,
     "end_time": "2024-07-17T12:22:24.482977",
     "exception": false,
     "start_time": "2024-07-17T12:22:24.457889",
     "status": "completed"
    },
    "tags": []
   },
   "source": [
    "## Confusion matrix"
   ]
  },
  {
   "cell_type": "code",
   "execution_count": 40,
   "id": "33ceb663",
   "metadata": {
    "execution": {
     "iopub.execute_input": "2024-07-17T12:22:24.536235Z",
     "iopub.status.busy": "2024-07-17T12:22:24.535826Z",
     "iopub.status.idle": "2024-07-17T12:22:25.985098Z",
     "shell.execute_reply": "2024-07-17T12:22:25.983949Z"
    },
    "papermill": {
     "duration": 1.478869,
     "end_time": "2024-07-17T12:22:25.987712",
     "exception": false,
     "start_time": "2024-07-17T12:22:24.508843",
     "status": "completed"
    },
    "tags": []
   },
   "outputs": [
    {
     "data": {
      "image/png": "[encoded data removed]",
      "text/plain": [
       "<Figure size 1500x1000 with 8 Axes>"
      ]
     },
     "metadata": {},
     "output_type": "display_data"
    }
   ],
   "source": [
    "from sklearn.metrics import confusion_matrix\n",
    "fig, axes = plt.subplots(2, 2, figsize=(15, 10))\n",
    "\n",
    "axes = axes.flatten()\n",
    "\n",
    "for ax, model_name, y_pred in zip(axes, classification_models, y_pred_list):\n",
    "    cm = confusion_matrix(y_test, y_pred)\n",
    "    sns.heatmap(cm, annot=True, fmt='d', ax=ax, cmap='Blues')\n",
    "    ax.set_title(f'{model_name} Confusion Matrix')\n",
    "    ax.set_xlabel('Predicted')\n",
    "    ax.set_ylabel('Actual')\n",
    "\n",
    "fig.suptitle('Confusion Matrices for Different Classification Models', fontsize=16)\n",
    "\n",
    "plt.tight_layout(rect=[0, 0, 1, 0.96])\n",
    "fig.subplots_adjust(hspace=0.5)\n",
    "plt.show()"
   ]
  },
  {
   "cell_type": "markdown",
   "id": "8d7f37f6",
   "metadata": {
    "papermill": {
     "duration": 0.030729,
     "end_time": "2024-07-17T12:22:26.045576",
     "exception": false,
     "start_time": "2024-07-17T12:22:26.014847",
     "status": "completed"
    },
    "tags": []
   },
   "source": [
    "<h3 style=\"text-align: center; color: #0066CC;\">Insights and Conclusions</h3>\n",
    "\n",
    "Based on the analysis of the models, we can see that all models have metrics close to 100%.\n",
    "\n",
    "In terms of **accuracy**, **precision**, and **f1 score**, only the K-NN model has a value of 0.99, while the other models (Logistic Regression, Decision Tree, and Support Vector Machine) achieve a perfect score of 1.00 for all these metrics. The **recall** metric also indicates that all models have a score of 1.00.\n",
    "\n",
    "If we look at the confusion matrix, we can see why the K-NN model has slightly lower metric values. In one observation, the actual value is 0, while the predicted value is 1, indicating an overly optimistic scenario for this specific case."
   ]
  },
  {
   "cell_type": "markdown",
   "id": "39a9b1c8",
   "metadata": {
    "papermill": {
     "duration": 0.026531,
     "end_time": "2024-07-17T12:22:26.098909",
     "exception": false,
     "start_time": "2024-07-17T12:22:26.072378",
     "status": "completed"
    },
    "tags": []
   },
   "source": [
    "## k-fold Cross-Validation"
   ]
  },
  {
   "cell_type": "code",
   "execution_count": 41,
   "id": "6e2deaf1",
   "metadata": {
    "execution": {
     "iopub.execute_input": "2024-07-17T12:22:26.154062Z",
     "iopub.status.busy": "2024-07-17T12:22:26.153652Z",
     "iopub.status.idle": "2024-07-17T12:22:26.649493Z",
     "shell.execute_reply": "2024-07-17T12:22:26.647992Z"
    },
    "papermill": {
     "duration": 0.52681,
     "end_time": "2024-07-17T12:22:26.652164",
     "exception": false,
     "start_time": "2024-07-17T12:22:26.125354",
     "status": "completed"
    },
    "tags": []
   },
   "outputs": [
    {
     "name": "stdout",
     "output_type": "stream",
     "text": [
      "                 Model Accuracy (%) Std Dev (%)\n",
      "0  Logistic regression      100.00%       0.00%\n",
      "1                 K-NN      100.00%       0.00%\n",
      "2        Decision Tree      100.00%       0.00%\n",
      "3                  SVC      100.00%       0.00%\n"
     ]
    }
   ],
   "source": [
    "from sklearn.model_selection import cross_val_score\n",
    "\n",
    "models_classifier = [logistic_regression_classifier, knn_classifier, decision_tree_classifier, kernel_svc_classifier]\n",
    "accuracy_kfold = []\n",
    "std_kfold = []\n",
    "\n",
    "for model_name, classifier in zip(classification_models, models_classifier): \n",
    "    accuracies = cross_val_score(estimator=classifier, X=X_train, y=y_train, cv=30)\n",
    "    mean_accuracy = accuracies.mean() * 100\n",
    "    std_accuracy = accuracies.std() * 100\n",
    "    accuracy_kfold.append(f\"{mean_accuracy:.2f}%\")\n",
    "    std_kfold.append(f\"{std_accuracy:.2f}%\")\n",
    "    \n",
    "kfold_df = pd.DataFrame({\n",
    "    'Model': classification_models,\n",
    "    'Accuracy (%)': accuracy_kfold,\n",
    "    'Std Dev (%)': std_kfold\n",
    "})\n",
    "\n",
    "print(kfold_df)"
   ]
  },
  {
   "cell_type": "markdown",
   "id": "f2ca4efc",
   "metadata": {
    "papermill": {
     "duration": 0.026692,
     "end_time": "2024-07-17T12:22:26.705924",
     "exception": false,
     "start_time": "2024-07-17T12:22:26.679232",
     "status": "completed"
    },
    "tags": []
   },
   "source": [
    "## Grid search\n"
   ]
  },
  {
   "cell_type": "code",
   "execution_count": 42,
   "id": "4c1e70c5",
   "metadata": {
    "execution": {
     "iopub.execute_input": "2024-07-17T12:22:26.762772Z",
     "iopub.status.busy": "2024-07-17T12:22:26.761405Z",
     "iopub.status.idle": "2024-07-17T12:22:28.594233Z",
     "shell.execute_reply": "2024-07-17T12:22:28.592770Z"
    },
    "papermill": {
     "duration": 1.864512,
     "end_time": "2024-07-17T12:22:28.596651",
     "exception": false,
     "start_time": "2024-07-17T12:22:26.732139",
     "status": "completed"
    },
    "tags": []
   },
   "outputs": [
    {
     "name": "stdout",
     "output_type": "stream",
     "text": [
      "Running Grid Search for Logistic Regression...\n",
      "Running Grid Search for K-Nearest Neighbors...\n",
      "Running Grid Search for Decision Tree...\n",
      "Running Grid Search for Kernel SVC...\n",
      "\n",
      "Grid Search Results:\n",
      "                 Model Best Accuracy (%)                  Best Parameters\n",
      "0  Logistic Regression           100.00%              {'random_state': 0}\n",
      "1  K-Nearest Neighbors           100.00%       {'n_neighbors': 2, 'p': 1}\n",
      "2        Decision Tree           100.00%              {'random_state': 0}\n",
      "3           Kernel SVC           100.00%  {'C': 0.25, 'kernel': 'linear'}\n"
     ]
    }
   ],
   "source": [
    "from sklearn.model_selection import GridSearchCV\n",
    "param_grid = {\n",
    "    'Logistic Regression': {\n",
    "        'estimator': [logistic_regression_classifier],\n",
    "        'param_grid': [{\n",
    "            'random_state': [0, 1, 2],\n",
    "        }]\n",
    "    },\n",
    "    'K-Nearest Neighbors': {\n",
    "        'estimator': [knn_classifier],\n",
    "        'param_grid': [{\n",
    "            'n_neighbors': [2, 3, 5],\n",
    "            'p': [1, 2]\n",
    "        }]\n",
    "    },\n",
    "    'Decision Tree': {\n",
    "        'estimator': [decision_tree_classifier],\n",
    "        'param_grid': [{\n",
    "             'random_state': [0, 1, 2],\n",
    "        }]\n",
    "    },\n",
    "    'Kernel SVC': {\n",
    "        'estimator': [kernel_svc_classifier],\n",
    "        'param_grid':[{\n",
    "            'C': [0.25, 0.5, 0.75, 1],\n",
    "            'kernel': ['linear', 'poly', 'rbf', 'sigmoid'],\n",
    "        }]\n",
    "    }\n",
    "}\n",
    "\n",
    "results = []\n",
    "\n",
    "for model_name, params in param_grid.items():\n",
    "    print(f\"Running Grid Search for {model_name}...\")\n",
    "    grid_search = GridSearchCV(\n",
    "        estimator=params['estimator'][0],\n",
    "        param_grid=params['param_grid'],\n",
    "        scoring='accuracy',\n",
    "        cv=10,\n",
    "        n_jobs=-1\n",
    "    )\n",
    "    grid_search.fit(X_train, y_train)\n",
    "    best_accuracy = grid_search.best_score_\n",
    "    best_parameters = grid_search.best_params_\n",
    "    results.append({\n",
    "        'Model': model_name,\n",
    "        'Best Accuracy (%)': f\"{best_accuracy * 100:.2f}%\",\n",
    "        'Best Parameters': best_parameters\n",
    "    })\n",
    "\n",
    "results_df = pd.DataFrame(results)\n",
    "\n",
    "print(\"\\nGrid Search Results:\")\n",
    "print(results_df)"
   ]
  },
  {
   "cell_type": "markdown",
   "id": "bbd3695f",
   "metadata": {
    "papermill": {
     "duration": 0.026184,
     "end_time": "2024-07-17T12:22:28.649341",
     "exception": false,
     "start_time": "2024-07-17T12:22:28.623157",
     "status": "completed"
    },
    "tags": []
   },
   "source": [
    "## KNN Model boost"
   ]
  },
  {
   "cell_type": "code",
   "execution_count": 43,
   "id": "f868e432",
   "metadata": {
    "execution": {
     "iopub.execute_input": "2024-07-17T12:22:28.705095Z",
     "iopub.status.busy": "2024-07-17T12:22:28.703959Z",
     "iopub.status.idle": "2024-07-17T12:22:28.719397Z",
     "shell.execute_reply": "2024-07-17T12:22:28.718165Z"
    },
    "papermill": {
     "duration": 0.046005,
     "end_time": "2024-07-17T12:22:28.722007",
     "exception": false,
     "start_time": "2024-07-17T12:22:28.676002",
     "status": "completed"
    },
    "tags": []
   },
   "outputs": [],
   "source": [
    "from sklearn.neighbors import KNeighborsClassifier\n",
    "knn_classifier_boost = KNeighborsClassifier(n_neighbors = 2, metric = 'minkowski', p = 1)\n",
    "knn_classifier_boost.fit(X_train, y_train)\n",
    "knn_y_pred = knn_classifier_boost.predict(X_test)"
   ]
  },
  {
   "cell_type": "markdown",
   "id": "68e56de4",
   "metadata": {
    "papermill": {
     "duration": 0.027636,
     "end_time": "2024-07-17T12:22:28.776328",
     "exception": false,
     "start_time": "2024-07-17T12:22:28.748692",
     "status": "completed"
    },
    "tags": []
   },
   "source": [
    "## SVC Model boost"
   ]
  },
  {
   "cell_type": "code",
   "execution_count": 44,
   "id": "26fe894f",
   "metadata": {
    "execution": {
     "iopub.execute_input": "2024-07-17T12:22:28.831929Z",
     "iopub.status.busy": "2024-07-17T12:22:28.830519Z",
     "iopub.status.idle": "2024-07-17T12:22:28.839546Z",
     "shell.execute_reply": "2024-07-17T12:22:28.838417Z"
    },
    "papermill": {
     "duration": 0.039121,
     "end_time": "2024-07-17T12:22:28.842025",
     "exception": false,
     "start_time": "2024-07-17T12:22:28.802904",
     "status": "completed"
    },
    "tags": []
   },
   "outputs": [],
   "source": [
    "from sklearn.svm import SVC\n",
    "kernel_svc_classifier_boost = SVC(C = 0.25, kernel = 'linear', random_state = 0)\n",
    "kernel_svc_classifier_boost.fit(X_train, y_train)\n",
    "kernel_svc_y_pred = kernel_svc_classifier_boost.predict(X_test)"
   ]
  },
  {
   "cell_type": "code",
   "execution_count": 45,
   "id": "a3e3e4c4",
   "metadata": {
    "execution": {
     "iopub.execute_input": "2024-07-17T12:22:28.897196Z",
     "iopub.status.busy": "2024-07-17T12:22:28.896777Z",
     "iopub.status.idle": "2024-07-17T12:22:28.902368Z",
     "shell.execute_reply": "2024-07-17T12:22:28.901194Z"
    },
    "papermill": {
     "duration": 0.036308,
     "end_time": "2024-07-17T12:22:28.904779",
     "exception": false,
     "start_time": "2024-07-17T12:22:28.868471",
     "status": "completed"
    },
    "tags": []
   },
   "outputs": [],
   "source": [
    "classification_models = ['Logistic regression', 'K-NN','Decision Tree', 'SVC']\n",
    "y_pred_list = [logistic_regression_y_pred, knn_y_pred, decision_tree_y_pred, kernel_svc_y_pred]"
   ]
  },
  {
   "cell_type": "markdown",
   "id": "36a447a7",
   "metadata": {
    "papermill": {
     "duration": 0.027287,
     "end_time": "2024-07-17T12:22:28.958775",
     "exception": false,
     "start_time": "2024-07-17T12:22:28.931488",
     "status": "completed"
    },
    "tags": []
   },
   "source": [
    "## Accuracy scores"
   ]
  },
  {
   "cell_type": "code",
   "execution_count": 46,
   "id": "9eee70fb",
   "metadata": {
    "execution": {
     "iopub.execute_input": "2024-07-17T12:22:29.014098Z",
     "iopub.status.busy": "2024-07-17T12:22:29.013688Z",
     "iopub.status.idle": "2024-07-17T12:22:29.316968Z",
     "shell.execute_reply": "2024-07-17T12:22:29.315815Z"
    },
    "papermill": {
     "duration": 0.33373,
     "end_time": "2024-07-17T12:22:29.319342",
     "exception": false,
     "start_time": "2024-07-17T12:22:28.985612",
     "status": "completed"
    },
    "tags": []
   },
   "outputs": [
    {
     "data": {
      "image/png": "[encoded data removed]",
      "text/plain": [
       "<Figure size 1500x1000 with 1 Axes>"
      ]
     },
     "metadata": {},
     "output_type": "display_data"
    }
   ],
   "source": [
    "from sklearn.metrics import accuracy_score\n",
    "accuracy_scores = []\n",
    "\n",
    "for model_name, y_pred in zip(classification_models, y_pred_list):\n",
    "    accuracy = round(accuracy_score(y_test, y_pred), 2)\n",
    "    accuracy_scores.append(accuracy)\n",
    "\n",
    "plt.figure(figsize=(15, 10))\n",
    "bars = plt.bar(classification_models, accuracy_scores, color='skyblue')\n",
    "plt.xlabel('Model')\n",
    "plt.ylabel('Accuracy Score')\n",
    "plt.title('Accuracy Scores for Different Classification Models')\n",
    "plt.ylim(0, 1)\n",
    "\n",
    "for bar, acc_score in zip(bars, accuracy_scores):\n",
    "    yval = bar.get_height()\n",
    "    plt.text(bar.get_x() + bar.get_width()/2.0, yval / 2, f'{acc_score}', ha='center', va='center', color='black', fontweight='bold')\n",
    "\n",
    "plt.show()"
   ]
  },
  {
   "cell_type": "markdown",
   "id": "4e9e3c81",
   "metadata": {
    "papermill": {
     "duration": 0.027477,
     "end_time": "2024-07-17T12:22:29.376444",
     "exception": false,
     "start_time": "2024-07-17T12:22:29.348967",
     "status": "completed"
    },
    "tags": []
   },
   "source": [
    "## Precision scores"
   ]
  },
  {
   "cell_type": "code",
   "execution_count": 47,
   "id": "b8696719",
   "metadata": {
    "execution": {
     "iopub.execute_input": "2024-07-17T12:22:29.433658Z",
     "iopub.status.busy": "2024-07-17T12:22:29.433254Z",
     "iopub.status.idle": "2024-07-17T12:22:29.676789Z",
     "shell.execute_reply": "2024-07-17T12:22:29.675412Z"
    },
    "papermill": {
     "duration": 0.275613,
     "end_time": "2024-07-17T12:22:29.679458",
     "exception": false,
     "start_time": "2024-07-17T12:22:29.403845",
     "status": "completed"
    },
    "tags": []
   },
   "outputs": [
    {
     "data": {
      "image/png": "[encoded data removed]",
      "text/plain": [
       "<Figure size 1500x1000 with 1 Axes>"
      ]
     },
     "metadata": {},
     "output_type": "display_data"
    }
   ],
   "source": [
    "from sklearn.metrics import precision_score\n",
    "precision_scores = []\n",
    "\n",
    "for model_name, y_pred in zip(classification_models, y_pred_list):\n",
    "    precision = round(precision_score(y_test, y_pred, average = 'weighted'), 2)\n",
    "    precision_scores.append(precision)\n",
    "\n",
    "plt.figure(figsize=(15, 10))\n",
    "bars = plt.bar(classification_models, precision_scores, color='skyblue')\n",
    "plt.xlabel('Model')\n",
    "plt.ylabel('Precision Score')\n",
    "plt.title('Precision Scores for Different Classification Models')\n",
    "plt.ylim(0, 1)\n",
    "\n",
    "for bar, prec_score in zip(bars, precision_scores):\n",
    "    yval = bar.get_height()\n",
    "    plt.text(bar.get_x() + bar.get_width()/2.0, yval / 2, f'{prec_score}', ha='center', va='center', color='black', fontweight='bold')\n",
    "\n",
    "plt.show()"
   ]
  },
  {
   "cell_type": "markdown",
   "id": "252767a3",
   "metadata": {
    "papermill": {
     "duration": 0.027595,
     "end_time": "2024-07-17T12:22:29.735570",
     "exception": false,
     "start_time": "2024-07-17T12:22:29.707975",
     "status": "completed"
    },
    "tags": []
   },
   "source": [
    "## Recall scores"
   ]
  },
  {
   "cell_type": "code",
   "execution_count": 48,
   "id": "d2ed630d",
   "metadata": {
    "execution": {
     "iopub.execute_input": "2024-07-17T12:22:29.794615Z",
     "iopub.status.busy": "2024-07-17T12:22:29.794206Z",
     "iopub.status.idle": "2024-07-17T12:22:30.042009Z",
     "shell.execute_reply": "2024-07-17T12:22:30.040797Z"
    },
    "papermill": {
     "duration": 0.281431,
     "end_time": "2024-07-17T12:22:30.044555",
     "exception": false,
     "start_time": "2024-07-17T12:22:29.763124",
     "status": "completed"
    },
    "tags": []
   },
   "outputs": [
    {
     "data": {
      "image/png": "[encoded data removed]",
      "text/plain": [
       "<Figure size 1500x1000 with 1 Axes>"
      ]
     },
     "metadata": {},
     "output_type": "display_data"
    }
   ],
   "source": [
    "from sklearn.metrics import recall_score\n",
    "\n",
    "recall_scores = []\n",
    "\n",
    "for model_name, y_pred in zip(classification_models, y_pred_list):\n",
    "    recall = round(recall_score(y_test, y_pred, average = 'weighted'), 2)\n",
    "    recall_scores.append(precision)\n",
    "\n",
    "plt.figure(figsize=(15, 10))\n",
    "bars = plt.bar(classification_models, recall_scores, color='skyblue')\n",
    "plt.xlabel('Model')\n",
    "plt.ylabel('Recall Score')\n",
    "plt.title('Recall Scores for Different Classification Models')\n",
    "plt.ylim(0, 1)\n",
    "\n",
    "for bar, rec_score in zip(bars, recall_scores):\n",
    "    yval = bar.get_height()\n",
    "    plt.text(bar.get_x() + bar.get_width()/2.0, yval / 2, f'{rec_score}', ha='center', va='center', color='black', fontweight='bold')\n",
    "\n",
    "plt.show()"
   ]
  },
  {
   "cell_type": "markdown",
   "id": "aae790b9",
   "metadata": {
    "papermill": {
     "duration": 0.028432,
     "end_time": "2024-07-17T12:22:30.101831",
     "exception": false,
     "start_time": "2024-07-17T12:22:30.073399",
     "status": "completed"
    },
    "tags": []
   },
   "source": [
    "## F1 scores"
   ]
  },
  {
   "cell_type": "code",
   "execution_count": 49,
   "id": "86fbadd2",
   "metadata": {
    "execution": {
     "iopub.execute_input": "2024-07-17T12:22:30.159470Z",
     "iopub.status.busy": "2024-07-17T12:22:30.159084Z",
     "iopub.status.idle": "2024-07-17T12:22:30.404782Z",
     "shell.execute_reply": "2024-07-17T12:22:30.403779Z"
    },
    "papermill": {
     "duration": 0.277538,
     "end_time": "2024-07-17T12:22:30.407378",
     "exception": false,
     "start_time": "2024-07-17T12:22:30.129840",
     "status": "completed"
    },
    "tags": []
   },
   "outputs": [
    {
     "data": {
      "image/png": "[encoded data removed]",
      "text/plain": [
       "<Figure size 1500x1000 with 1 Axes>"
      ]
     },
     "metadata": {},
     "output_type": "display_data"
    }
   ],
   "source": [
    "from sklearn.metrics import f1_score\n",
    "\n",
    "f1_scores = []\n",
    "\n",
    "for model_name, y_pred in zip(classification_models, y_pred_list):\n",
    "    f1 = round(f1_score(y_test, y_pred, average='macro'), 2)\n",
    "    f1_scores.append(f1)\n",
    "\n",
    "plt.figure(figsize=(15, 10))\n",
    "bars = plt.bar(classification_models, f1_scores, color='skyblue')\n",
    "plt.xlabel('Model')\n",
    "plt.ylabel('F1 Score')\n",
    "plt.title('F1 Score for Different Classification Models\\n', fontsize=16)\n",
    "plt.ylim(0, 1)\n",
    "\n",
    "for bar, f1_score in zip(bars, f1_scores):\n",
    "    yval = bar.get_height()\n",
    "    plt.text(bar.get_x() + bar.get_width()/2.0, yval / 2, f'{f1_score}', ha='center', va='center', color='black', fontweight='bold')\n",
    "\n",
    "plt.show()"
   ]
  },
  {
   "cell_type": "markdown",
   "id": "16dbdd89",
   "metadata": {
    "papermill": {
     "duration": 0.028332,
     "end_time": "2024-07-17T12:22:30.464376",
     "exception": false,
     "start_time": "2024-07-17T12:22:30.436044",
     "status": "completed"
    },
    "tags": []
   },
   "source": [
    "## Confusion matrix"
   ]
  },
  {
   "cell_type": "code",
   "execution_count": 50,
   "id": "4ae03c8b",
   "metadata": {
    "execution": {
     "iopub.execute_input": "2024-07-17T12:22:30.524656Z",
     "iopub.status.busy": "2024-07-17T12:22:30.523687Z",
     "iopub.status.idle": "2024-07-17T12:22:32.168694Z",
     "shell.execute_reply": "2024-07-17T12:22:32.167594Z"
    },
    "papermill": {
     "duration": 1.678092,
     "end_time": "2024-07-17T12:22:32.171093",
     "exception": false,
     "start_time": "2024-07-17T12:22:30.493001",
     "status": "completed"
    },
    "tags": []
   },
   "outputs": [
    {
     "data": {
      "image/png": "[encoded data removed]",
      "text/plain": [
       "<Figure size 1500x1000 with 8 Axes>"
      ]
     },
     "metadata": {},
     "output_type": "display_data"
    }
   ],
   "source": [
    "from sklearn.metrics import confusion_matrix\n",
    "fig, axes = plt.subplots(2, 2, figsize=(15, 10))\n",
    "\n",
    "axes = axes.flatten()\n",
    "\n",
    "for ax, model_name, y_pred in zip(axes, classification_models, y_pred_list):\n",
    "    cm = confusion_matrix(y_test, y_pred)\n",
    "    sns.heatmap(cm, annot=True, fmt='d', ax=ax, cmap='Blues')\n",
    "    ax.set_title(f'{model_name} Confusion Matrix')\n",
    "    ax.set_xlabel('Predicted')\n",
    "    ax.set_ylabel('Actual')\n",
    "\n",
    "fig.suptitle('Confusion Matrices for Different Classification Models', fontsize=16)\n",
    "\n",
    "plt.tight_layout(rect=[0, 0, 1, 0.96])\n",
    "fig.subplots_adjust(hspace=0.5)\n",
    "plt.show()"
   ]
  },
  {
   "cell_type": "markdown",
   "id": "1acb1fe5",
   "metadata": {
    "papermill": {
     "duration": 0.029327,
     "end_time": "2024-07-17T12:22:32.230050",
     "exception": false,
     "start_time": "2024-07-17T12:22:32.200723",
     "status": "completed"
    },
    "tags": []
   },
   "source": [
    "<h3 style=\"text-align: center; color: #0066CC;\">Insights and Conclusions</h3>\n",
    "Based on the fine-tuning of the SVC and KNN models, which achieved perfect performance metrics of 1.0 and demonstrated no misclassified observations in the confusion matrix, it can be concluded that all four models used (including SVC, KNN, Logistic Regression, and Decision Tree) are suitable for the Titanic survival/unsurvival classification task.\n",
    "\n",
    "<h2 style=\"text-align: center; color: #0066CC;\">The results suggest that all models are equally effective at correctly predicting the classes, allowing for their interchangeable use in further analyses.</h2>"
   ]
  }
 ],
 "metadata": {
  "kaggle": {
   "accelerator": "none",
   "dataSources": [
    {
     "datasetId": 826163,
     "sourceId": 2879186,
     "sourceType": "datasetVersion"
    }
   ],
   "dockerImageVersionId": 30746,
   "isGpuEnabled": false,
   "isInternetEnabled": true,
   "language": "python",
   "sourceType": "notebook"
  },
  "kernelspec": {
   "display_name": "Python 3",
   "language": "python",
   "name": "python3"
  },
  "language_info": {
   "codemirror_mode": {
    "name": "ipython",
    "version": 3
   },
   "file_extension": ".py",
   "mimetype": "text/x-python",
   "name": "python",
   "nbconvert_exporter": "python",
   "pygments_lexer": "ipython3",
   "version": "3.10.13"
  },
  "papermill": {
   "default_parameters": {},
   "duration": 22.495946,
   "end_time": "2024-07-17T12:22:34.879718",
   "environment_variables": {},
   "exception": null,
   "input_path": "__notebook__.ipynb",
   "output_path": "__notebook__.ipynb",
   "parameters": {},
   "start_time": "2024-07-17T12:22:12.383772",
   "version": "2.5.0"
  }
 },
 "nbformat": 4,
 "nbformat_minor": 5
}
